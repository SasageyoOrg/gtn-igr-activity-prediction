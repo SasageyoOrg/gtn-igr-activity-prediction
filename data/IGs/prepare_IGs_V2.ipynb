{
  "cells": [
    {
      "attachments": {},
      "cell_type": "markdown",
      "metadata": {},
      "source": [
        "# Config and Imports"
      ]
    },
    {
      "cell_type": "code",
      "execution_count": 1,
      "metadata": {},
      "outputs": [
        {
          "name": "stdout",
          "output_type": "stream",
          "text": [
            "c:\\Users\\andri\\Progetti\\igraph_transformer\n"
          ]
        }
      ],
      "source": [
        "import os\n",
        "os.chdir('../../')\n",
        "prj_path = \"./data/IGs/\"\n",
        "print(os.getcwd())"
      ]
    },
    {
      "cell_type": "code",
      "execution_count": 2,
      "metadata": {
        "id": "nhxFAVLK9b12"
      },
      "outputs": [
        {
          "name": "stderr",
          "output_type": "stream",
          "text": [
            "Using backend: pytorch\n"
          ]
        }
      ],
      "source": [
        "import random\n",
        "\n",
        "import torch\n",
        "import pickle\n",
        "import torch.utils.data\n",
        "import time\n",
        "import os\n",
        "import numpy as np\n",
        "\n",
        "import csv\n",
        "\n",
        "import dgl\n",
        "\n",
        "from scipy import sparse as sp\n",
        "import networkx as nx\n",
        "import hashlib\n",
        "\n",
        "%matplotlib inline\n",
        "import matplotlib.pyplot as plt\n",
        "\n",
        "from sklearn.model_selection import train_test_split\n",
        "\n",
        "from torch.utils.data import SubsetRandomSampler, DataLoader\n",
        "from collections import defaultdict\n",
        "from data.IGs_V2 import IGsDatasetDGL"
      ]
    },
    {
      "attachments": {},
      "cell_type": "markdown",
      "metadata": {},
      "source": [
        "# Prepare dataset"
      ]
    },
    {
      "attachments": {},
      "cell_type": "markdown",
      "metadata": {},
      "source": [
        "txt --> train/test/val PKL: NO DGL"
      ]
    },
    {
      "cell_type": "code",
      "execution_count": 3,
      "metadata": {},
      "outputs": [],
      "source": [
        "data_list = []\n",
        "dataset = []\n",
        "\n",
        "#data_path = prj_path + 'ig_subgraphs.txt'\n",
        "with open(prj_path + 'ig_subgraphs.txt', 'r') as file:\n",
        "    for line in file:\n",
        "        line = line.strip()  # Remove whitespace and newline characters\n",
        "        values = line.split(']')  # Split the line based on the ']' character\n",
        "        nums = values[0].strip('[, ')  # Extract the numbers inside the square brackets\n",
        "        nums = [int(num) for num in nums.split(',')]  # Convert the numbers into a list of integers\n",
        "        num_after_bracket = int(values[1].strip())  # Extract the number after the square bracket\n",
        "        data_list.append([nums, num_after_bracket])\n",
        "\n",
        "random.shuffle(data_list)\n",
        "\n",
        "G = nx.Graph()\n",
        "\n",
        "for data in data_list:\n",
        "  nodes, label = data[:2]\n",
        "  edges = [(nodes[i], nodes[i+1]) for i in range(len(nodes)-1)]\n",
        "\n",
        "  G.clear()  # Svuota il grafo precedente\n",
        "  G.add_nodes_from(nodes)\n",
        "  G.add_edges_from(edges)\n",
        "\n",
        "  obj = (G.copy(), int(label))\n",
        "  dataset.append(obj)\n",
        "  \n",
        "with open(prj_path + 'igraph-GTN.pkl', 'wb') as f:\n",
        "  pickle.dump(dataset, f)"
      ]
    },
    {
      "cell_type": "code",
      "execution_count": 4,
      "metadata": {},
      "outputs": [
        {
          "data": {
            "text/plain": [
              "53447"
            ]
          },
          "execution_count": 4,
          "metadata": {},
          "output_type": "execute_result"
        }
      ],
      "source": [
        "len(dataset)"
      ]
    },
    {
      "attachments": {},
      "cell_type": "markdown",
      "metadata": {},
      "source": [
        "### Split and Dump train,val,test pkl"
      ]
    },
    {
      "cell_type": "code",
      "execution_count": 6,
      "metadata": {},
      "outputs": [
        {
          "name": "stdout",
          "output_type": "stream",
          "text": [
            "37412 9621 6414\n"
          ]
        },
        {
          "name": "stderr",
          "output_type": "stream",
          "text": [
            "c:\\Users\\andri\\miniconda3\\envs\\graph_transformer\\lib\\site-packages\\ipykernel_launcher.py:18: UserWarning: To copy construct from a tensor, it is recommended to use sourceTensor.clone().detach() or sourceTensor.clone().detach().requires_grad_(True), rather than torch.tensor(sourceTensor).\n"
          ]
        }
      ],
      "source": [
        "from torch.utils.data import WeightedRandomSampler\n",
        "from torch.utils.data import Subset\n",
        "#-------------------------------TRAIN-----------------------------\n",
        "train_p = 0.7  # Train set percentage\n",
        "num_samples = len(dataset)\n",
        "train_samples = int(train_p * num_samples)\n",
        "\n",
        "targets = [data[1] for data in dataset]\n",
        "\n",
        "# Calculate the frequency of each class and get the weights for each class\n",
        "class_counts = torch.bincount(torch.tensor(targets))\n",
        "class_weights = torch.true_divide(1.0, class_counts)\n",
        "\n",
        "# Normalize the class weights\n",
        "# class_weights /= torch.max(class_weights)\n",
        "\n",
        "# Create a tensor of class labels\n",
        "targets = torch.tensor(torch.tensor(targets))\n",
        "\n",
        "# WeightedRandomSampler for weight based sampling with replacement\n",
        "sampler = WeightedRandomSampler(class_weights[targets], train_samples, replacement=False)\n",
        "\n",
        "train_indices = list(sampler)\n",
        "\n",
        "# Use the sampler to sample the dataset for the trainset\n",
        "train = torch.utils.data.Subset(dataset, train_indices)\n",
        "\n",
        "#-------------------------------TEST/VAL-----------------------------\n",
        "# Create a subset of the dataset excluding the train indices\n",
        "remaining_indices = list(set(range(len(dataset))) - set(train_indices))\n",
        "\n",
        "test_p = 0.6 # % of the remaining samples (note! replacement was used)\n",
        "test_size = int(test_p*len(remaining_indices))\n",
        "test_indices = random.sample(remaining_indices, test_size)\n",
        "\n",
        "# Create the test set with the sampled indices\n",
        "test = Subset(dataset, test_indices)\n",
        "\n",
        "# Create a subset of the dataset excluding the train and test indices\n",
        "val_indices = list(set(range(len(dataset))) - set(train_indices) - set(test_indices))\n",
        "# val_indices = random.sample(val_indices, test_size)\n",
        "\n",
        "\n",
        "# Create the test set with the sampled indices\n",
        "val = Subset(dataset, val_indices)\n",
        "\n",
        "print(len(train), len(test), len(val))"
      ]
    },
    {
      "cell_type": "code",
      "execution_count": 7,
      "metadata": {},
      "outputs": [
        {
          "name": "stdout",
          "output_type": "stream",
          "text": [
            "Total samples in dataset: 37412\n",
            "class 5: 3040 samples\n",
            "class 13: 2685 samples\n",
            "class 7: 3895 samples\n",
            "class 15: 137 samples\n",
            "class 6: 4160 samples\n",
            "class 2: 3160 samples\n",
            "class 3: 2530 samples\n",
            "class 9: 2756 samples\n",
            "class 4: 2502 samples\n",
            "class 14: 1914 samples\n",
            "class 11: 3311 samples\n",
            "class 8: 1322 samples\n",
            "class 12: 1668 samples\n",
            "class 10: 4332 samples\n"
          ]
        },
        {
          "data": {
            "image/png": "[encoded data removed]",
            "text/plain": [
              "<Figure size 432x288 with 1 Axes>"
            ]
          },
          "metadata": {
            "needs_background": "light"
          },
          "output_type": "display_data"
        }
      ],
      "source": [
        "import matplotlib.pyplot as plt\n",
        "from collections import defaultdict\n",
        "\n",
        "plt_ds = train\n",
        "\n",
        "print(f\"Total samples in dataset: {len(plt_ds)}\")\n",
        "# Count number of data instances in each class for test set\n",
        "class_counts = defaultdict(int)\n",
        "for i, data in enumerate(plt_ds):\n",
        "    label = data[1]\n",
        "    class_counts[label] += 1\n",
        "\n",
        "for key, value in class_counts.items():\n",
        "    print(f\"class {key}: {value} samples\")\n",
        "\n",
        "# Plot bar chart of class distribution for test set\n",
        "plt.bar(class_counts.keys(), class_counts.values())\n",
        "plt.xlabel('Class label')\n",
        "plt.ylabel('Number of data instances')\n",
        "plt.title(f'Class distribution')\n",
        "plt.show()\n"
      ]
    },
    {
      "cell_type": "code",
      "execution_count": 8,
      "metadata": {
        "id": "EBiNImE895nV"
      },
      "outputs": [
        {
          "name": "stdout",
          "output_type": "stream",
          "text": [
            "Time (sec): 1.6746444702148438\n"
          ]
        }
      ],
      "source": [
        "#train, test_val_data = train_test_split(dataset, test_size=0.3, random_state=42)\n",
        "#test, val = train_test_split(test_val_data, test_size=0.7, random_state=42)\n",
        "\n",
        "start = time.time()\n",
        "with open(prj_path + 'igraph-GTN-v2-train.pkl','wb') as f:\n",
        "        pickle.dump(train, f)\n",
        "with open(prj_path + 'igraph-GTN-v2-test.pkl','wb') as f:\n",
        "        pickle.dump(test, f)\n",
        "with open(prj_path + 'igraph-GTN-v2-val.pkl','wb') as f:\n",
        "        pickle.dump(val, f)\n",
        "\n",
        "print('Time (sec):',time.time() - start)"
      ]
    },
    {
      "attachments": {},
      "cell_type": "markdown",
      "metadata": {},
      "source": [
        "# Load Dataset"
      ]
    },
    {
      "cell_type": "code",
      "execution_count": 9,
      "metadata": {},
      "outputs": [
        {
          "name": "stdout",
          "output_type": "stream",
          "text": [
            "[I] Loading data ...\n",
            "preparing 37412 graphs for the TRAIN set...\n"
          ]
        },
        {
          "name": "stderr",
          "output_type": "stream",
          "text": [
            "c:\\Users\\andri\\miniconda3\\envs\\graph_transformer\\lib\\site-packages\\dgl\\base.py:45: DGLWarning: Recommend creating graphs by `dgl.graph(data)` instead of `dgl.DGLGraph(data)`.\n",
            "  return warnings.warn(message, category=category, stacklevel=1)\n"
          ]
        },
        {
          "name": "stdout",
          "output_type": "stream",
          "text": [
            "preparing 6414 graphs for the VAL set...\n",
            "preparing 9621 graphs for the TEST set...\n",
            "[I] Finished loading.\n",
            "Time taken: 389.9757s\n",
            "Time (sec): 21.942267179489136\n"
          ]
        }
      ],
      "source": [
        "if not os.path.isfile(prj_path + 'igraph-DatasetDGL-v2.pkl'):\n",
        "  # file presente --> pkl load\n",
        "  # with open(prj_path + 'igraph-DatasetDGL.pkl', \"rb\") as f:\n",
        "  #   f = pickle.load(f)\n",
        "  #   datasetDGL = f\n",
        "  datasetDGL = IGsDataset()\n",
        "else:\n",
        "  # dataset non presente -> generazione\n",
        "  datasetDGL = IGsDatasetDGL()\n",
        "\n",
        "  start = time.time()\n",
        "  with open(prj_path + 'igraph-DatasetDGL-v2.pkl', 'wb') as f:\n",
        "          #pickle.dump([datasetDGL.train,datasetDGL.val,datasetDGL.test], f)\n",
        "          pickle.dump(datasetDGL, f)\n",
        "  print('Time (sec):',time.time() - start)"
      ]
    },
    {
      "cell_type": "code",
      "execution_count": 38,
      "metadata": {},
      "outputs": [
        {
          "data": {
            "text/plain": [
              "Graph(num_nodes=14, num_edges=26,\n",
              "      ndata_schemes={'feat': Scheme(shape=(1,), dtype=torch.float32)}\n",
              "      edata_schemes={'feat': Scheme(shape=(1,), dtype=torch.float32)})"
            ]
          },
          "execution_count": 38,
          "metadata": {},
          "output_type": "execute_result"
        }
      ],
      "source": [
        "datasetDGL.train[1][0]"
      ]
    },
    {
      "cell_type": "code",
      "execution_count": 29,
      "metadata": {},
      "outputs": [
        {
          "data": {
            "text/plain": [
              "[tensor(10),\n",
              " tensor(14),\n",
              " tensor(10),\n",
              " tensor(6),\n",
              " tensor(4),\n",
              " tensor(2),\n",
              " tensor(10),\n",
              " tensor(7),\n",
              " tensor(5),\n",
              " tensor(4),\n",
              " tensor(13),\n",
              " tensor(8),\n",
              " tensor(8),\n",
              " tensor(3),\n",
              " tensor(15),\n",
              " tensor(2),\n",
              " tensor(5),\n",
              " tensor(13),\n",
              " tensor(6),\n",
              " tensor(2),\n",
              " tensor(2),\n",
              " tensor(5),\n",
              " tensor(15),\n",
              " tensor(6),\n",
              " tensor(12),\n",
              " tensor(7),\n",
              " tensor(9),\n",
              " tensor(11),\n",
              " tensor(6),\n",
              " tensor(6),\n",
              " tensor(9),\n",
              " tensor(8),\n",
              " tensor(4),\n",
              " tensor(13),\n",
              " tensor(3),\n",
              " tensor(9),\n",
              " tensor(11),\n",
              " tensor(13),\n",
              " tensor(8),\n",
              " tensor(13),\n",
              " tensor(7),\n",
              " tensor(4),\n",
              " tensor(13),\n",
              " tensor(7),\n",
              " tensor(15),\n",
              " tensor(11),\n",
              " tensor(9),\n",
              " tensor(13),\n",
              " tensor(7),\n",
              " tensor(2),\n",
              " tensor(9),\n",
              " tensor(10),\n",
              " tensor(11),\n",
              " tensor(3),\n",
              " tensor(3),\n",
              " tensor(8),\n",
              " tensor(9),\n",
              " tensor(5),\n",
              " tensor(3),\n",
              " tensor(2),\n",
              " tensor(3),\n",
              " tensor(4),\n",
              " tensor(14),\n",
              " tensor(10),\n",
              " tensor(7),\n",
              " tensor(14),\n",
              " tensor(9),\n",
              " tensor(9),\n",
              " tensor(3),\n",
              " tensor(3),\n",
              " tensor(15),\n",
              " tensor(4),\n",
              " tensor(12),\n",
              " tensor(5),\n",
              " tensor(9),\n",
              " tensor(6),\n",
              " tensor(12),\n",
              " tensor(15),\n",
              " tensor(12),\n",
              " tensor(15),\n",
              " tensor(11),\n",
              " tensor(5),\n",
              " tensor(11),\n",
              " tensor(12),\n",
              " tensor(6),\n",
              " tensor(11),\n",
              " tensor(3),\n",
              " tensor(8),\n",
              " tensor(3),\n",
              " tensor(15),\n",
              " tensor(11),\n",
              " tensor(2),\n",
              " tensor(9),\n",
              " tensor(15),\n",
              " tensor(4),\n",
              " tensor(4),\n",
              " tensor(9),\n",
              " tensor(13),\n",
              " tensor(14),\n",
              " tensor(6)]"
            ]
          },
          "execution_count": 29,
          "metadata": {},
          "output_type": "execute_result"
        }
      ],
      "source": [
        "graph, label = datasetDGL.train[0:100]\n",
        "label"
      ]
    },
    {
      "attachments": {},
      "cell_type": "markdown",
      "metadata": {},
      "source": []
    },
    {
      "attachments": {},
      "cell_type": "markdown",
      "metadata": {},
      "source": [
        "### Explore dataset"
      ]
    },
    {
      "cell_type": "code",
      "execution_count": 9,
      "metadata": {
        "id": "UROnwGJR_LZG"
      },
      "outputs": [
        {
          "name": "stdout",
          "output_type": "stream",
          "text": [
            "50595\n",
            "6515\n",
            "15175\n",
            "(Graph(num_nodes=17, num_edges=12,\n",
            "      ndata_schemes={'feat': Scheme(shape=(1,), dtype=torch.float32)}\n",
            "      edata_schemes={'feat': Scheme(shape=(1,), dtype=torch.float32)}), tensor(10))\n",
            "(Graph(num_nodes=14, num_edges=11,\n",
            "      ndata_schemes={'feat': Scheme(shape=(1,), dtype=torch.float32)}\n",
            "      edata_schemes={'feat': Scheme(shape=(1,), dtype=torch.float32)}), tensor(10))\n",
            "(Graph(num_nodes=10, num_edges=9,\n",
            "      ndata_schemes={'feat': Scheme(shape=(1,), dtype=torch.float32)}\n",
            "      edata_schemes={'feat': Scheme(shape=(1,), dtype=torch.float32)}), tensor(10))\n"
          ]
        }
      ],
      "source": [
        "print(len(datasetDGL.train))\n",
        "print(len(datasetDGL.val))\n",
        "print(len(datasetDGL.test))\n",
        "\n",
        "print(datasetDGL.train[0])\n",
        "print(datasetDGL.val[0])\n",
        "print(datasetDGL.test[0])"
      ]
    },
    {
      "cell_type": "code",
      "execution_count": 6,
      "metadata": {},
      "outputs": [
        {
          "ename": "NameError",
          "evalue": "name 'test' is not defined",
          "output_type": "error",
          "traceback": [
            "\u001b[1;31m---------------------------------------------------------------------------\u001b[0m",
            "\u001b[1;31mNameError\u001b[0m                                 Traceback (most recent call last)",
            "\u001b[1;32m<ipython-input-6-8db6202fa24a>\u001b[0m in \u001b[0;36m<module>\u001b[1;34m\u001b[0m\n\u001b[0;32m      4\u001b[0m \u001b[1;31m# Count number of data instances in each class for test set\u001b[0m\u001b[1;33m\u001b[0m\u001b[1;33m\u001b[0m\u001b[1;33m\u001b[0m\u001b[0m\n\u001b[0;32m      5\u001b[0m \u001b[0mclass_counts\u001b[0m \u001b[1;33m=\u001b[0m \u001b[0mdefaultdict\u001b[0m\u001b[1;33m(\u001b[0m\u001b[0mint\u001b[0m\u001b[1;33m)\u001b[0m\u001b[1;33m\u001b[0m\u001b[1;33m\u001b[0m\u001b[0m\n\u001b[1;32m----> 6\u001b[1;33m \u001b[1;32mfor\u001b[0m \u001b[0mi\u001b[0m\u001b[1;33m,\u001b[0m \u001b[0mdata\u001b[0m \u001b[1;32min\u001b[0m \u001b[0menumerate\u001b[0m\u001b[1;33m(\u001b[0m\u001b[0mtest\u001b[0m\u001b[1;33m)\u001b[0m\u001b[1;33m:\u001b[0m\u001b[1;33m\u001b[0m\u001b[1;33m\u001b[0m\u001b[0m\n\u001b[0m\u001b[0;32m      7\u001b[0m     \u001b[0mlabel\u001b[0m \u001b[1;33m=\u001b[0m \u001b[0mdata\u001b[0m\u001b[1;33m[\u001b[0m\u001b[1;34m'target'\u001b[0m\u001b[1;33m]\u001b[0m\u001b[1;33m\u001b[0m\u001b[1;33m\u001b[0m\u001b[0m\n\u001b[0;32m      8\u001b[0m     \u001b[0mclass_counts\u001b[0m\u001b[1;33m[\u001b[0m\u001b[0mlabel\u001b[0m\u001b[1;33m.\u001b[0m\u001b[0mitem\u001b[0m\u001b[1;33m(\u001b[0m\u001b[1;33m)\u001b[0m\u001b[1;33m]\u001b[0m \u001b[1;33m+=\u001b[0m \u001b[1;36m1\u001b[0m\u001b[1;33m\u001b[0m\u001b[1;33m\u001b[0m\u001b[0m\n",
            "\u001b[1;31mNameError\u001b[0m: name 'test' is not defined"
          ]
        }
      ],
      "source": [
        "import matplotlib.pyplot as plt\n",
        "from collections import defaultdict\n",
        "\n",
        "# Count number of data instances in each class for test set\n",
        "class_counts = defaultdict(int)\n",
        "for i, data in enumerate(test):\n",
        "    label = data['target']\n",
        "    class_counts[label.item()] += 1\n",
        "\n",
        "# Plot bar chart of class distribution for test set\n",
        "plt.bar(class_counts.keys(), class_counts.values())\n",
        "plt.xlabel('Class label')\n",
        "plt.ylabel('Number of data instances')\n",
        "plt.title('Class distribution for test set')\n",
        "plt.show()\n"
      ]
    },
    {
      "cell_type": "code",
      "execution_count": 7,
      "metadata": {},
      "outputs": [
        {
          "ename": "NameError",
          "evalue": "name 'train' is not defined",
          "output_type": "error",
          "traceback": [
            "\u001b[1;31m---------------------------------------------------------------------------\u001b[0m",
            "\u001b[1;31mNameError\u001b[0m                                 Traceback (most recent call last)",
            "\u001b[1;32m<ipython-input-7-76fe4e604ca2>\u001b[0m in \u001b[0;36m<module>\u001b[1;34m\u001b[0m\n\u001b[0;32m      1\u001b[0m \u001b[1;31m# Create set of unique classes in train set\u001b[0m\u001b[1;33m\u001b[0m\u001b[1;33m\u001b[0m\u001b[1;33m\u001b[0m\u001b[0m\n\u001b[0;32m      2\u001b[0m \u001b[0munique_classes\u001b[0m \u001b[1;33m=\u001b[0m \u001b[0mset\u001b[0m\u001b[1;33m(\u001b[0m\u001b[1;33m)\u001b[0m\u001b[1;33m\u001b[0m\u001b[1;33m\u001b[0m\u001b[0m\n\u001b[1;32m----> 3\u001b[1;33m \u001b[1;32mfor\u001b[0m \u001b[0mdata\u001b[0m \u001b[1;32min\u001b[0m \u001b[0mtrain\u001b[0m\u001b[1;33m:\u001b[0m\u001b[1;33m\u001b[0m\u001b[1;33m\u001b[0m\u001b[0m\n\u001b[0m\u001b[0;32m      4\u001b[0m     \u001b[0mlabel\u001b[0m \u001b[1;33m=\u001b[0m \u001b[0mdata\u001b[0m\u001b[1;33m[\u001b[0m\u001b[1;34m'target'\u001b[0m\u001b[1;33m]\u001b[0m\u001b[1;33m\u001b[0m\u001b[1;33m\u001b[0m\u001b[0m\n\u001b[0;32m      5\u001b[0m     \u001b[0munique_classes\u001b[0m\u001b[1;33m.\u001b[0m\u001b[0madd\u001b[0m\u001b[1;33m(\u001b[0m\u001b[0mlabel\u001b[0m\u001b[1;33m.\u001b[0m\u001b[0mitem\u001b[0m\u001b[1;33m(\u001b[0m\u001b[1;33m)\u001b[0m\u001b[1;33m)\u001b[0m\u001b[1;33m\u001b[0m\u001b[1;33m\u001b[0m\u001b[0m\n",
            "\u001b[1;31mNameError\u001b[0m: name 'train' is not defined"
          ]
        }
      ],
      "source": [
        "# Create set of unique classes in train set\n",
        "unique_classes = set()\n",
        "for data in train:\n",
        "    label = data['target']\n",
        "    unique_classes.add(label.item())\n",
        "\n",
        "# Count number of unique classes\n",
        "num_classes = len(unique_classes)\n",
        "print(\"Number of unique classes in train set: \", num_classes)\n",
        "print(unique_classes)"
      ]
    },
    {
      "cell_type": "code",
      "execution_count": 8,
      "metadata": {
        "id": "xYdQTxQW_Ok3"
      },
      "outputs": [
        {
          "data": {
            "image/png": "[encoded data removed]",
            "text/plain": [
              "<Figure size 432x288 with 1 Axes>"
            ]
          },
          "metadata": {
            "needs_background": "light"
          },
          "output_type": "display_data"
        },
        {
          "name": "stdout",
          "output_type": "stream",
          "text": [
            "min/max : 2 76\n"
          ]
        },
        {
          "data": {
            "image/png": "[encoded data removed]",
            "text/plain": [
              "<Figure size 432x288 with 1 Axes>"
            ]
          },
          "metadata": {
            "needs_background": "light"
          },
          "output_type": "display_data"
        },
        {
          "name": "stdout",
          "output_type": "stream",
          "text": [
            "min/max : 2 73\n"
          ]
        },
        {
          "data": {
            "image/png": "[encoded data removed]",
            "text/plain": [
              "<Figure size 432x288 with 1 Axes>"
            ]
          },
          "metadata": {
            "needs_background": "light"
          },
          "output_type": "display_data"
        },
        {
          "name": "stdout",
          "output_type": "stream",
          "text": [
            "min/max : 2 77\n"
          ]
        }
      ],
      "source": [
        "def plot_histo_graphs(dataset, title):\n",
        "    # histogram of graph sizes\n",
        "    graph_sizes = []\n",
        "    for graph in dataset:\n",
        "        graph_sizes.append(graph[0].number_of_nodes())\n",
        "    plt.figure(1)\n",
        "    plt.hist(graph_sizes, bins=20)\n",
        "    plt.title(title)\n",
        "    plt.show()\n",
        "    graph_sizes = torch.Tensor(graph_sizes)\n",
        "    print('min/max :',graph_sizes.min().long().item(),graph_sizes.max().long().item())\n",
        "\n",
        "plot_histo_graphs(datasetDGL.train,'trainset')\n",
        "plot_histo_graphs(datasetDGL.val,'valset')\n",
        "plot_histo_graphs(datasetDGL.test,'testset')"
      ]
    },
    {
      "attachments": {},
      "cell_type": "markdown",
      "metadata": {},
      "source": [
        "# Test"
      ]
    },
    {
      "cell_type": "code",
      "execution_count": 50,
      "metadata": {},
      "outputs": [
        {
          "data": {
            "text/plain": [
              "{'num_node': 14,\n",
              " 'node_type': tensor([0, 1, 2, 6, 6, 6, 6, 6, 6, 6, 6, 6, 6, 6], dtype=torch.int8),\n",
              " 'adj': tensor([[0, 1, 0, 0, 0, 0, 0],\n",
              "         [0, 0, 1, 0, 0, 0, 0],\n",
              "         [0, 0, 0, 0, 0, 0, 1],\n",
              "         [0, 0, 0, 0, 0, 0, 0],\n",
              "         [0, 0, 0, 0, 0, 0, 0],\n",
              "         [0, 0, 0, 0, 0, 0, 0],\n",
              "         [0, 0, 0, 0, 0, 0, 1]], dtype=torch.int8),\n",
              " 'target': tensor(6)}"
            ]
          },
          "execution_count": 50,
          "metadata": {},
          "output_type": "execute_result"
        }
      ],
      "source": [
        "train[0]"
      ]
    },
    {
      "cell_type": "code",
      "execution_count": 68,
      "metadata": {},
      "outputs": [
        {
          "data": {
            "text/plain": [
              "6"
            ]
          },
          "execution_count": 68,
          "metadata": {},
          "output_type": "execute_result"
        }
      ],
      "source": [
        "datasetDGL.train[0][1].item()\n"
      ]
    }
  ],
  "metadata": {
    "colab": {
      "provenance": []
    },
    "kernelspec": {
      "display_name": "Python 3",
      "name": "python3"
    },
    "language_info": {
      "codemirror_mode": {
        "name": "ipython",
        "version": 3
      },
      "file_extension": ".py",
      "mimetype": "text/x-python",
      "name": "python",
      "nbconvert_exporter": "python",
      "pygments_lexer": "ipython3",
      "version": "3.7.4"
    }
  },
  "nbformat": 4,
  "nbformat_minor": 0
}
