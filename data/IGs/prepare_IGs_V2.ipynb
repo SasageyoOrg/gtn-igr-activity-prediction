{
  "cells": [
    {
      "attachments": {},
      "cell_type": "markdown",
      "metadata": {},
      "source": [
        "# Config and Imports"
      ]
    },
    {
      "cell_type": "code",
      "execution_count": 1,
      "metadata": {},
      "outputs": [
        {
          "name": "stdout",
          "output_type": "stream",
          "text": [
            "c:\\Users\\andri\\Progetti\\igraph_transformer\n"
          ]
        }
      ],
      "source": [
        "import os\n",
        "os.chdir('../../')\n",
        "prj_path = \"./data/IGs/\"\n",
        "print(os.getcwd())"
      ]
    },
    {
      "cell_type": "code",
      "execution_count": 41,
      "metadata": {
        "id": "nhxFAVLK9b12"
      },
      "outputs": [],
      "source": [
        "import random\n",
        "\n",
        "import torch\n",
        "import pickle\n",
        "import torch.utils.data\n",
        "import time\n",
        "import os\n",
        "import numpy as np\n",
        "\n",
        "import csv\n",
        "\n",
        "import dgl\n",
        "\n",
        "from scipy import sparse as sp\n",
        "import networkx as nx\n",
        "import hashlib\n",
        "\n",
        "%matplotlib inline\n",
        "import matplotlib.pyplot as plt\n",
        "\n",
        "from sklearn.model_selection import train_test_split\n",
        "\n",
        "from torch.utils.data import SubsetRandomSampler, DataLoader\n",
        "from collections import defaultdict\n",
        "from data.IGs_V2 import IGsDatasetDGL"
      ]
    },
    {
      "attachments": {},
      "cell_type": "markdown",
      "metadata": {},
      "source": [
        "# Prepare dataset"
      ]
    },
    {
      "attachments": {},
      "cell_type": "markdown",
      "metadata": {},
      "source": [
        "txt --> train/test/val PKL: NO DGL"
      ]
    },
    {
      "cell_type": "code",
      "execution_count": 42,
      "metadata": {},
      "outputs": [],
      "source": [
        "data_list = []\n",
        "dataset = []\n",
        "\n",
        "#data_path = prj_path + 'ig_subgraphs.txt'\n",
        "with open(prj_path + 'ig_subgraphs_no_duplicates.txt', 'r') as file:\n",
        "    for line in file:\n",
        "        line = line.strip()  # Remove whitespace and newline characters\n",
        "        values = line.split(']')  # Split the line based on the ']' character\n",
        "        nums = values[0].strip('[, ')  # Extract the numbers inside the square brackets\n",
        "        nums = [int(num) for num in nums.split(',')]  # Convert the numbers into a list of integers\n",
        "        num_after_bracket = int(values[1].strip())  # Extract the number after the square bracket\n",
        "        data_list.append([nums, num_after_bracket])\n",
        "\n",
        "random.shuffle(data_list)\n",
        "\n",
        "G = nx.Graph()\n",
        "\n",
        "for data in data_list:\n",
        "  nodes, label = data[:2]\n",
        "  edges = [(nodes[i], nodes[i+1]) for i in range(len(nodes)-1)]\n",
        "\n",
        "  G.clear()  # Svuota il grafo precedente\n",
        "  G.add_nodes_from(nodes)\n",
        "  G.add_edges_from(edges)\n",
        "\n",
        "  obj = (G.copy(), int(label))\n",
        "  dataset.append(obj)\n",
        "  \n",
        "with open(prj_path + 'igraph-GTN.pkl', 'wb') as f:\n",
        "  pickle.dump(dataset, f)"
      ]
    },
    {
      "cell_type": "code",
      "execution_count": 43,
      "metadata": {},
      "outputs": [
        {
          "data": {
            "text/plain": [
              "13811"
            ]
          },
          "execution_count": 43,
          "metadata": {},
          "output_type": "execute_result"
        }
      ],
      "source": [
        "# dataset = [data for data in dataset if data[1] != 15]\n",
        "len(dataset)"
      ]
    },
    {
      "attachments": {},
      "cell_type": "markdown",
      "metadata": {},
      "source": [
        "### Split and Dump train,val,test pkl"
      ]
    },
    {
      "cell_type": "code",
      "execution_count": 26,
      "metadata": {},
      "outputs": [
        {
          "name": "stdout",
          "output_type": "stream",
          "text": [
            "12429 2762 5677\n"
          ]
        },
        {
          "name": "stderr",
          "output_type": "stream",
          "text": [
            "c:\\Users\\andri\\miniconda3\\envs\\graph_transformer\\lib\\site-packages\\ipykernel_launcher.py:23: UserWarning: To copy construct from a tensor, it is recommended to use sourceTensor.clone().detach() or sourceTensor.clone().detach().requires_grad_(True), rather than torch.tensor(sourceTensor).\n"
          ]
        }
      ],
      "source": [
        "from torch.utils.data import WeightedRandomSampler\n",
        "from torch.utils.data import Subset\n",
        "#-------------------------------TRAIN-----------------------------\n",
        "seed = 10\n",
        "random.seed(seed)\n",
        "torch.manual_seed(seed)\n",
        "\n",
        "train_p = 0.9 # Train set percentage\n",
        "num_samples = len(dataset)\n",
        "train_samples = int(train_p * num_samples)\n",
        "\n",
        "targets = [data[1] for data in dataset]\n",
        "\n",
        "\n",
        "# Calculate the frequency of each class and get the weights for each class\n",
        "class_counts = torch.bincount(torch.tensor(targets))\n",
        "class_weights = torch.true_divide(1.0, class_counts)\n",
        "\n",
        "# Normalize the class weights\n",
        "# class_weights /= torch.max(class_weights)\n",
        "\n",
        "# Create a tensor of class labels\n",
        "targets = torch.tensor(torch.tensor(targets))\n",
        "\n",
        "\n",
        "# WeightedRandomSampler for weight based sampling with replacement\n",
        "sampler = WeightedRandomSampler(class_weights[targets], train_samples, replacement=True)\n",
        "\n",
        "train_indices = list(sampler)\n",
        "\n",
        "# Use the sampler to sample the dataset for the trainset\n",
        "train = torch.utils.data.Subset(dataset, train_indices)\n",
        "\n",
        "#-------------------------------TEST/VAL-----------------------------\n",
        "# Create a subset of the dataset excluding the train indices\n",
        "remaining_indices = list(set(range(len(dataset))) - set(train_indices))\n",
        "\n",
        "test_p = 0.2 # % of the remaining samples\n",
        "test_size = int(test_p * num_samples)\n",
        "test_indices = random.sample(remaining_indices, test_size)\n",
        "\n",
        "# Create the test set with the sampled indices\n",
        "test = Subset(dataset, test_indices)\n",
        "\n",
        "# Create a subset of the dataset excluding the train and test indices\n",
        "val_indices = list(set(range(len(dataset))) - set(train_indices) - set(test_indices))\n",
        "\n",
        "# Create the test set with the sampled indices\n",
        "val = Subset(dataset, val_indices)\n",
        "print(len(train), len(test), len(val))"
      ]
    },
    {
      "cell_type": "code",
      "execution_count": 46,
      "metadata": {},
      "outputs": [
        {
          "name": "stdout",
          "output_type": "stream",
          "text": [
            "Train set size: 9667\n"
          ]
        }
      ],
      "source": [
        "from torch.utils.data import Subset\n",
        "from sklearn.model_selection import StratifiedKFold,StratifiedShuffleSplit\n",
        "\n",
        "import random\n",
        "import torch\n",
        "import numpy as np\n",
        "\n",
        "from collections import defaultdict\n",
        "\n",
        "#-------------------------------TRAIN/TEST/VAL SPLIT-----------------------------\n",
        "seed = 10\n",
        "random.seed(seed)\n",
        "torch.manual_seed(seed)\n",
        "\n",
        "train_p = 0.70  # Train set percentage\n",
        "test_p = 0.15  # Test set percentage\n",
        "val_p = 0.15 # Validation set percentage\n",
        "\n",
        "num_samples_train = int(train_p * len(dataset))\n",
        "# Use StratifiedKFold to split the data into train and test sets stratifically\n",
        "sss_train_test = StratifiedShuffleSplit(n_splits=1, train_size=num_samples_train, random_state=seed)\n",
        "\n",
        "# Get the data and targets from the dataset\n",
        "data = [sample[0] for sample in dataset]\n",
        "targets = [sample[1] for sample in dataset]\n",
        "\n",
        "# Convert data and targets to numpy arrays\n",
        "data = np.array(data)\n",
        "targets = np.array(targets)\n",
        "\n",
        "for train_index, test_index in sss_train_test.split(data, targets):\n",
        "    # Split the data into train and test sets\n",
        "    data_train, data_test = data[train_index], data[test_index]\n",
        "    targets_train, targets_test = targets[train_index], targets[test_index]\n",
        "print(f\"Train set size: {len(data_train)}\")"
      ]
    },
    {
      "cell_type": "code",
      "execution_count": 47,
      "metadata": {},
      "outputs": [
        {
          "name": "stdout",
          "output_type": "stream",
          "text": [
            "9667 2073 2071\n"
          ]
        }
      ],
      "source": [
        "\n",
        "# Calculate the number of samples for train and validation sets\n",
        "num_samples_test = int(test_p * len(dataset))\n",
        "num_samples_val = int(val_p * len(dataset))\n",
        "\n",
        "# Use StratifiedShuffleSplit to split the train set into train and validation sets\n",
        "sss_test_val = StratifiedShuffleSplit(n_splits=1, test_size=num_samples_val, random_state=seed)\n",
        "\n",
        "for test_index, val_index in sss_test_val.split(data_test, targets_test):\n",
        "    # Split the data_test into test and validation sets\n",
        "    data_test, data_val = data_test[test_index], data_test[val_index]\n",
        "    targets_test, targets_val = targets_test[test_index], targets_test[val_index]\n",
        "\n",
        "# Create the Subset objects for train, test, and validation sets\n",
        "train = Subset(dataset, train_index)\n",
        "test = Subset(dataset, test_index)\n",
        "val = Subset(dataset, val_index)\n",
        "\n",
        "print(len(train), len(test), len(val))\n"
      ]
    },
    {
      "cell_type": "code",
      "execution_count": 50,
      "metadata": {},
      "outputs": [
        {
          "name": "stdout",
          "output_type": "stream",
          "text": [
            "Total samples in dataset: 9667\n",
            "class 7: 1804 samples\n",
            "class 14: 2685 samples\n",
            "class 10: 1886 samples\n",
            "class 9: 1417 samples\n",
            "class 3: 46 samples\n",
            "class 8: 342 samples\n",
            "class 4: 54 samples\n",
            "class 11: 305 samples\n",
            "class 5: 363 samples\n",
            "class 12: 401 samples\n",
            "class 6: 279 samples\n",
            "class 13: 38 samples\n",
            "class 15: 38 samples\n",
            "class 2: 9 samples\n"
          ]
        },
        {
          "data": {
            "image/png": "[encoded data removed]",
            "text/plain": [
              "<Figure size 432x288 with 1 Axes>"
            ]
          },
          "metadata": {
            "needs_background": "light"
          },
          "output_type": "display_data"
        }
      ],
      "source": [
        "import matplotlib.pyplot as plt\n",
        "from collections import defaultdict\n",
        "\n",
        "plt_ds = train\n",
        "\n",
        "print(f\"Total samples in dataset: {len(plt_ds)}\")\n",
        "# Count number of data instances in each class for test set\n",
        "class_counts = defaultdict(int)\n",
        "for i, data in enumerate(plt_ds):\n",
        "    label = data[1]\n",
        "    class_counts[label] += 1\n",
        "\n",
        "for key, value in class_counts.items():\n",
        "    print(f\"class {key}: {value} samples\")\n",
        "\n",
        "# Plot bar chart of class distribution for test set\n",
        "plt.bar(class_counts.keys(), class_counts.values())\n",
        "plt.xlabel('Class label')\n",
        "plt.ylabel('Number of data instances')\n",
        "plt.title(f'Class distribution')\n",
        "plt.show()\n"
      ]
    },
    {
      "cell_type": "code",
      "execution_count": 37,
      "metadata": {
        "id": "EBiNImE895nV"
      },
      "outputs": [
        {
          "name": "stdout",
          "output_type": "stream",
          "text": [
            "Time (sec): 0.6290028095245361\n"
          ]
        }
      ],
      "source": [
        "#train, test_val_data = train_test_split(dataset, test_size=0.3, random_state=42)\n",
        "#test, val = train_test_split(test_val_data, test_size=0.7, random_state=42)\n",
        "\n",
        "start = time.time()\n",
        "with open(prj_path + 'igraph-GTN-v2-train.pkl','wb') as f:\n",
        "        pickle.dump(train, f)\n",
        "with open(prj_path + 'igraph-GTN-v2-test.pkl','wb') as f:\n",
        "        pickle.dump(test, f)\n",
        "with open(prj_path + 'igraph-GTN-v2-val.pkl','wb') as f:\n",
        "        pickle.dump(val, f)\n",
        "\n",
        "print('Time (sec):',time.time() - start)"
      ]
    },
    {
      "attachments": {},
      "cell_type": "markdown",
      "metadata": {},
      "source": [
        "# Load Dataset"
      ]
    },
    {
      "cell_type": "code",
      "execution_count": 38,
      "metadata": {},
      "outputs": [
        {
          "name": "stdout",
          "output_type": "stream",
          "text": [
            "[I] Loading data ...\n",
            "preparing 8978 graphs for the TRAIN set...\n"
          ]
        },
        {
          "name": "stderr",
          "output_type": "stream",
          "text": [
            "c:\\Users\\andri\\miniconda3\\envs\\graph_transformer\\lib\\site-packages\\dgl\\base.py:45: DGLWarning: Recommend creating graphs by `dgl.graph(data)` instead of `dgl.DGLGraph(data)`.\n",
            "  return warnings.warn(message, category=category, stacklevel=1)\n"
          ]
        },
        {
          "name": "stdout",
          "output_type": "stream",
          "text": [
            "preparing 2071 graphs for the VAL set...\n",
            "preparing 2762 graphs for the TEST set...\n",
            "[I] Finished loading.\n",
            "Time taken: 192.3950s\n",
            "Time (sec): 5.984982967376709\n"
          ]
        }
      ],
      "source": [
        "if not os.path.isfile(prj_path + 'igraph-DatasetDGL-noDup.pkl'):\n",
        "  # file presente --> pkl load\n",
        "  # with open(prj_path + 'igraph-DatasetDGL.pkl', \"rb\") as f:\n",
        "  #   f = pickle.load(f)\n",
        "  #   datasetDGL = f\n",
        "  datasetDGL = IGsDataset()\n",
        "else:\n",
        "  # dataset non presente -> generazione\n",
        "  datasetDGL = IGsDatasetDGL()\n",
        "\n",
        "  start = time.time()\n",
        "  with open(prj_path + 'igraph-DatasetDGL-noDup.pkl', 'wb') as f:\n",
        "          #pickle.dump([datasetDGL.train,datasetDGL.val,datasetDGL.test], f)\n",
        "          pickle.dump(datasetDGL, f)\n",
        "  print('Time (sec):',time.time() - start)"
      ]
    },
    {
      "cell_type": "code",
      "execution_count": 16,
      "metadata": {},
      "outputs": [
        {
          "data": {
            "text/plain": [
              "Graph(num_nodes=16, num_edges=30,\n",
              "      ndata_schemes={'feat': Scheme(shape=(1,), dtype=torch.float32)}\n",
              "      edata_schemes={'feat': Scheme(shape=(1,), dtype=torch.float32)})"
            ]
          },
          "execution_count": 16,
          "metadata": {},
          "output_type": "execute_result"
        }
      ],
      "source": [
        "datasetDGL.train[1][0]"
      ]
    },
    {
      "attachments": {},
      "cell_type": "markdown",
      "metadata": {},
      "source": []
    },
    {
      "attachments": {},
      "cell_type": "markdown",
      "metadata": {},
      "source": [
        "### Explore dataset"
      ]
    },
    {
      "cell_type": "code",
      "execution_count": 17,
      "metadata": {
        "id": "UROnwGJR_LZG"
      },
      "outputs": [
        {
          "name": "stdout",
          "output_type": "stream",
          "text": [
            "9631\n",
            "1375\n",
            "2751\n",
            "(Graph(num_nodes=15, num_edges=24,\n",
            "      ndata_schemes={'feat': Scheme(shape=(1,), dtype=torch.float32)}\n",
            "      edata_schemes={'feat': Scheme(shape=(1,), dtype=torch.float32)}), tensor(14))\n",
            "(Graph(num_nodes=7, num_edges=8,\n",
            "      ndata_schemes={'feat': Scheme(shape=(1,), dtype=torch.float32)}\n",
            "      edata_schemes={'feat': Scheme(shape=(1,), dtype=torch.float32)}), tensor(12))\n",
            "(Graph(num_nodes=14, num_edges=16,\n",
            "      ndata_schemes={'feat': Scheme(shape=(1,), dtype=torch.float32)}\n",
            "      edata_schemes={'feat': Scheme(shape=(1,), dtype=torch.float32)}), tensor(6))\n"
          ]
        }
      ],
      "source": [
        "print(len(datasetDGL.train))\n",
        "print(len(datasetDGL.val))\n",
        "print(len(datasetDGL.test))\n",
        "\n",
        "print(datasetDGL.train[0])\n",
        "print(datasetDGL.val[0])\n",
        "print(datasetDGL.test[0])"
      ]
    },
    {
      "cell_type": "code",
      "execution_count": 39,
      "metadata": {},
      "outputs": [
        {
          "ename": "TypeError",
          "evalue": "tuple indices must be integers or slices, not str",
          "output_type": "error",
          "traceback": [
            "\u001b[1;31m---------------------------------------------------------------------------\u001b[0m",
            "\u001b[1;31mTypeError\u001b[0m                                 Traceback (most recent call last)",
            "\u001b[1;32m<ipython-input-39-8db6202fa24a>\u001b[0m in \u001b[0;36m<module>\u001b[1;34m\u001b[0m\n\u001b[0;32m      5\u001b[0m \u001b[0mclass_counts\u001b[0m \u001b[1;33m=\u001b[0m \u001b[0mdefaultdict\u001b[0m\u001b[1;33m(\u001b[0m\u001b[0mint\u001b[0m\u001b[1;33m)\u001b[0m\u001b[1;33m\u001b[0m\u001b[1;33m\u001b[0m\u001b[0m\n\u001b[0;32m      6\u001b[0m \u001b[1;32mfor\u001b[0m \u001b[0mi\u001b[0m\u001b[1;33m,\u001b[0m \u001b[0mdata\u001b[0m \u001b[1;32min\u001b[0m \u001b[0menumerate\u001b[0m\u001b[1;33m(\u001b[0m\u001b[0mtest\u001b[0m\u001b[1;33m)\u001b[0m\u001b[1;33m:\u001b[0m\u001b[1;33m\u001b[0m\u001b[1;33m\u001b[0m\u001b[0m\n\u001b[1;32m----> 7\u001b[1;33m     \u001b[0mlabel\u001b[0m \u001b[1;33m=\u001b[0m \u001b[0mdata\u001b[0m\u001b[1;33m[\u001b[0m\u001b[1;34m'target'\u001b[0m\u001b[1;33m]\u001b[0m\u001b[1;33m\u001b[0m\u001b[1;33m\u001b[0m\u001b[0m\n\u001b[0m\u001b[0;32m      8\u001b[0m     \u001b[0mclass_counts\u001b[0m\u001b[1;33m[\u001b[0m\u001b[0mlabel\u001b[0m\u001b[1;33m.\u001b[0m\u001b[0mitem\u001b[0m\u001b[1;33m(\u001b[0m\u001b[1;33m)\u001b[0m\u001b[1;33m]\u001b[0m \u001b[1;33m+=\u001b[0m \u001b[1;36m1\u001b[0m\u001b[1;33m\u001b[0m\u001b[1;33m\u001b[0m\u001b[0m\n\u001b[0;32m      9\u001b[0m \u001b[1;33m\u001b[0m\u001b[0m\n",
            "\u001b[1;31mTypeError\u001b[0m: tuple indices must be integers or slices, not str"
          ]
        }
      ],
      "source": [
        "import matplotlib.pyplot as plt\n",
        "from collections import defaultdict\n",
        "\n",
        "# Count number of data instances in each class for test set\n",
        "class_counts = defaultdict(int)\n",
        "for i, data in enumerate(test):\n",
        "    label = data['target']\n",
        "    class_counts[label.item()] += 1\n",
        "\n",
        "# Plot bar chart of class distribution for test set\n",
        "plt.bar(class_counts.keys(), class_counts.values())\n",
        "plt.xlabel('Class label')\n",
        "plt.ylabel('Number of data instances')\n",
        "plt.title('Class distribution for test set')\n",
        "plt.show()\n"
      ]
    },
    {
      "cell_type": "code",
      "execution_count": 7,
      "metadata": {},
      "outputs": [
        {
          "ename": "NameError",
          "evalue": "name 'train' is not defined",
          "output_type": "error",
          "traceback": [
            "\u001b[1;31m---------------------------------------------------------------------------\u001b[0m",
            "\u001b[1;31mNameError\u001b[0m                                 Traceback (most recent call last)",
            "\u001b[1;32m<ipython-input-7-76fe4e604ca2>\u001b[0m in \u001b[0;36m<module>\u001b[1;34m\u001b[0m\n\u001b[0;32m      1\u001b[0m \u001b[1;31m# Create set of unique classes in train set\u001b[0m\u001b[1;33m\u001b[0m\u001b[1;33m\u001b[0m\u001b[1;33m\u001b[0m\u001b[0m\n\u001b[0;32m      2\u001b[0m \u001b[0munique_classes\u001b[0m \u001b[1;33m=\u001b[0m \u001b[0mset\u001b[0m\u001b[1;33m(\u001b[0m\u001b[1;33m)\u001b[0m\u001b[1;33m\u001b[0m\u001b[1;33m\u001b[0m\u001b[0m\n\u001b[1;32m----> 3\u001b[1;33m \u001b[1;32mfor\u001b[0m \u001b[0mdata\u001b[0m \u001b[1;32min\u001b[0m \u001b[0mtrain\u001b[0m\u001b[1;33m:\u001b[0m\u001b[1;33m\u001b[0m\u001b[1;33m\u001b[0m\u001b[0m\n\u001b[0m\u001b[0;32m      4\u001b[0m     \u001b[0mlabel\u001b[0m \u001b[1;33m=\u001b[0m \u001b[0mdata\u001b[0m\u001b[1;33m[\u001b[0m\u001b[1;34m'target'\u001b[0m\u001b[1;33m]\u001b[0m\u001b[1;33m\u001b[0m\u001b[1;33m\u001b[0m\u001b[0m\n\u001b[0;32m      5\u001b[0m     \u001b[0munique_classes\u001b[0m\u001b[1;33m.\u001b[0m\u001b[0madd\u001b[0m\u001b[1;33m(\u001b[0m\u001b[0mlabel\u001b[0m\u001b[1;33m.\u001b[0m\u001b[0mitem\u001b[0m\u001b[1;33m(\u001b[0m\u001b[1;33m)\u001b[0m\u001b[1;33m)\u001b[0m\u001b[1;33m\u001b[0m\u001b[1;33m\u001b[0m\u001b[0m\n",
            "\u001b[1;31mNameError\u001b[0m: name 'train' is not defined"
          ]
        }
      ],
      "source": [
        "# Create set of unique classes in train set\n",
        "unique_classes = set()\n",
        "for data in train:\n",
        "    label = data['target']\n",
        "    unique_classes.add(label.item())\n",
        "\n",
        "# Count number of unique classes\n",
        "num_classes = len(unique_classes)\n",
        "print(\"Number of unique classes in train set: \", num_classes)\n",
        "print(unique_classes)"
      ]
    },
    {
      "cell_type": "code",
      "execution_count": 93,
      "metadata": {
        "id": "xYdQTxQW_Ok3"
      },
      "outputs": [
        {
          "data": {
            "image/png": "[encoded data removed]",
            "text/plain": [
              "<Figure size 432x288 with 1 Axes>"
            ]
          },
          "metadata": {
            "needs_background": "light"
          },
          "output_type": "display_data"
        },
        {
          "name": "stdout",
          "output_type": "stream",
          "text": [
            "min/max : 2 16\n"
          ]
        },
        {
          "data": {
            "image/png": "[encoded data removed]",
            "text/plain": [
              "<Figure size 432x288 with 1 Axes>"
            ]
          },
          "metadata": {
            "needs_background": "light"
          },
          "output_type": "display_data"
        },
        {
          "name": "stdout",
          "output_type": "stream",
          "text": [
            "min/max : 2 16\n"
          ]
        },
        {
          "data": {
            "image/png": "[encoded data removed]",
            "text/plain": [
              "<Figure size 432x288 with 1 Axes>"
            ]
          },
          "metadata": {
            "needs_background": "light"
          },
          "output_type": "display_data"
        },
        {
          "name": "stdout",
          "output_type": "stream",
          "text": [
            "min/max : 2 16\n"
          ]
        }
      ],
      "source": [
        "def plot_histo_graphs(dataset, title):\n",
        "    # histogram of graph sizes\n",
        "    graph_sizes = []\n",
        "    for graph in dataset:\n",
        "        graph_sizes.append(graph[0].number_of_nodes())\n",
        "    plt.figure(1)\n",
        "    plt.hist(graph_sizes, bins=20)\n",
        "    plt.title(title)\n",
        "    plt.show()\n",
        "    graph_sizes = torch.Tensor(graph_sizes)\n",
        "    print('min/max :',graph_sizes.min().long().item(),graph_sizes.max().long().item())\n",
        "\n",
        "plot_histo_graphs(datasetDGL.train,'trainset')\n",
        "plot_histo_graphs(datasetDGL.val,'valset')\n",
        "plot_histo_graphs(datasetDGL.test,'testset')"
      ]
    },
    {
      "attachments": {},
      "cell_type": "markdown",
      "metadata": {},
      "source": [
        "# Test"
      ]
    },
    {
      "cell_type": "code",
      "execution_count": 50,
      "metadata": {},
      "outputs": [
        {
          "data": {
            "text/plain": [
              "{'num_node': 14,\n",
              " 'node_type': tensor([0, 1, 2, 6, 6, 6, 6, 6, 6, 6, 6, 6, 6, 6], dtype=torch.int8),\n",
              " 'adj': tensor([[0, 1, 0, 0, 0, 0, 0],\n",
              "         [0, 0, 1, 0, 0, 0, 0],\n",
              "         [0, 0, 0, 0, 0, 0, 1],\n",
              "         [0, 0, 0, 0, 0, 0, 0],\n",
              "         [0, 0, 0, 0, 0, 0, 0],\n",
              "         [0, 0, 0, 0, 0, 0, 0],\n",
              "         [0, 0, 0, 0, 0, 0, 1]], dtype=torch.int8),\n",
              " 'target': tensor(6)}"
            ]
          },
          "execution_count": 50,
          "metadata": {},
          "output_type": "execute_result"
        }
      ],
      "source": [
        "train[0]"
      ]
    },
    {
      "cell_type": "code",
      "execution_count": 68,
      "metadata": {},
      "outputs": [
        {
          "data": {
            "text/plain": [
              "6"
            ]
          },
          "execution_count": 68,
          "metadata": {},
          "output_type": "execute_result"
        }
      ],
      "source": [
        "datasetDGL.train[0][1].item()\n"
      ]
    }
  ],
  "metadata": {
    "colab": {
      "provenance": []
    },
    "kernelspec": {
      "display_name": "Python 3",
      "name": "python3"
    },
    "language_info": {
      "codemirror_mode": {
        "name": "ipython",
        "version": 3
      },
      "file_extension": ".py",
      "mimetype": "text/x-python",
      "name": "python",
      "nbconvert_exporter": "python",
      "pygments_lexer": "ipython3",
      "version": "3.7.4"
    }
  },
  "nbformat": 4,
  "nbformat_minor": 0
}
