{
  "cells": [
    {
      "attachments": {},
      "cell_type": "markdown",
      "metadata": {},
      "source": [
        "# Config and Imports"
      ]
    },
    {
      "cell_type": "code",
      "execution_count": 1,
      "metadata": {},
      "outputs": [
        {
          "name": "stdout",
          "output_type": "stream",
          "text": [
            "c:\\Users\\andri\\Progetti\\igraph_transformer\n"
          ]
        }
      ],
      "source": [
        "import os\n",
        "os.chdir('../../')\n",
        "prj_path = \"./data/IGs/\"\n",
        "print(os.getcwd())"
      ]
    },
    {
      "cell_type": "code",
      "execution_count": 2,
      "metadata": {
        "id": "nhxFAVLK9b12"
      },
      "outputs": [
        {
          "name": "stderr",
          "output_type": "stream",
          "text": [
            "Using backend: pytorch\n"
          ]
        }
      ],
      "source": [
        "import random\n",
        "\n",
        "import os\n",
        "import torch\n",
        "import pickle\n",
        "import torch.utils.data\n",
        "import time\n",
        "\n",
        "%matplotlib inline\n",
        "import matplotlib.pyplot as plt\n",
        "\n",
        "from sklearn.model_selection import train_test_split\n",
        "\n",
        "from data.IGs import IGsDatasetDGL, IGsDataset"
      ]
    },
    {
      "attachments": {},
      "cell_type": "markdown",
      "metadata": {},
      "source": [
        "# Prepare dataset"
      ]
    },
    {
      "attachments": {},
      "cell_type": "markdown",
      "metadata": {},
      "source": [
        "txt --> train/test/val PKL: NO DGL"
      ]
    },
    {
      "cell_type": "code",
      "execution_count": 3,
      "metadata": {
        "id": "E69YQhWk9hrB"
      },
      "outputs": [],
      "source": [
        "def track_list_to_adjacency_matrix(track_list):\n",
        "    # Determine the maximum number of nodes in the track\n",
        "    # num_nodes = max(track_list) + 1\n",
        "    num_nodes = 16\n",
        "\n",
        "    # Create an empty adjacency matrix\n",
        "    adjacency_matrix = [[0] * num_nodes for _ in range(num_nodes)]\n",
        "\n",
        "    # Add connections to the adjacency matrix\n",
        "    for i in range(len(track_list) - 1):\n",
        "        current_node = track_list[i]\n",
        "        next_node = track_list[i + 1]\n",
        "        adjacency_matrix[current_node][next_node] = 1\n",
        "\n",
        "    return adjacency_matrix\n",
        "\n",
        "\n",
        "data_list = []\n",
        "dataset = []\n",
        "\n",
        "with open(prj_path + 'ig_subgraphs.txt', 'r') as file:\n",
        "    for line in file:\n",
        "        line = line.strip()  # Remove whitespace and newline characters\n",
        "        values = line.split(']')  # Split the line based on the ']' character\n",
        "        nums = values[0].strip('[, ')  # Extract the numbers inside the square brackets\n",
        "        nums = [int(num) for num in nums.split(',')]  # Convert the numbers into a list of integers\n",
        "        num_after_bracket = int(values[1].strip())  # Extract the number after the square bracket\n",
        "        data_list.append([nums, num_after_bracket])\n",
        "\n",
        "random.shuffle(data_list)\n",
        "\n",
        "for data in data_list:\n",
        "    obj = {\n",
        "        'num_node': len(data[0]),\n",
        "        'node_type': torch.tensor(data[0], dtype=torch.int8),\n",
        "        'adj' : torch.tensor(track_list_to_adjacency_matrix(data[0]), dtype=torch.int8),\n",
        "        'target': torch.tensor(data[1])\n",
        "    }\n",
        "    dataset.append(obj)\n",
        "\n",
        "with open(prj_path + 'igraph-GTN.pkl', 'wb') as f:\n",
        "    pickle.dump(dataset, f)"
      ]
    },
    {
      "cell_type": "code",
      "execution_count": 7,
      "metadata": {},
      "outputs": [
        {
          "data": {
            "text/plain": [
              "72285"
            ]
          },
          "execution_count": 7,
          "metadata": {},
          "output_type": "execute_result"
        }
      ],
      "source": [
        "len(dataset)"
      ]
    },
    {
      "attachments": {},
      "cell_type": "markdown",
      "metadata": {},
      "source": [
        "### Split and Dump train,val,test pkl"
      ]
    },
    {
      "cell_type": "code",
      "execution_count": 37,
      "metadata": {},
      "outputs": [
        {
          "name": "stdout",
          "output_type": "stream",
          "text": [
            "Size of train set is 50595\n",
            "Size of test set is 14454\n",
            "Size of val set is 7236\n"
          ]
        }
      ],
      "source": [
        "from torch.utils.data import SubsetRandomSampler, DataLoader\n",
        "from collections import defaultdict\n",
        "# Create dictionary to keep track of indices for each class label\n",
        "indices = defaultdict(list)\n",
        "for i, data in enumerate(dataset):\n",
        "    label = data['target']\n",
        "    indices[label.item()].append(i)\n",
        "    \n",
        "    \n",
        "# TRAIN------------------------------------------------------------------------\n",
        "# Sample balanced subset of indices from each class for train set\n",
        "train_indices = []\n",
        "for label_indices in indices.values():\n",
        "  \n",
        "    num_samples = len(label_indices)\n",
        "    num_train_samples = int(0.7 * num_samples)  # 70-30 split between train and validation\n",
        "    \n",
        "    train_indices += random.sample(label_indices, num_train_samples)\n",
        "    \n",
        "    random.shuffle(train_indices)\n",
        "    \n",
        "train = [dataset[i] for i in train_indices]\n",
        "# train = [dataset[i] for i in train_indices[0:100]]\n",
        "\n",
        "# Sample balanced subset of indices from each class for test set\n",
        "test_indices = []\n",
        "\n",
        "\n",
        "# TEST-------------------------------------------------------------------------\n",
        "for label_indices in indices.values():\n",
        "    num_test_samples = int(0.2 * len(label_indices))  # 70-20-10 split between train, validation, and test\n",
        "    \n",
        "    label_indices = set(label_indices) - set(train_indices)  # Remove train indices from consideration\n",
        "    test_indices += random.sample(label_indices, num_test_samples)\n",
        "    \n",
        "    random.shuffle(test_indices)\n",
        "    \n",
        "test = [dataset[i] for i in test_indices]\n",
        "# test = [dataset[i] for i in test_indices[0:100]]\n",
        "\n",
        "# VALIDATION-------------------------------------------------------------------\n",
        "# Sample balanced subset of indices from each class for val set\n",
        "val_indices = []\n",
        "for label_indices in indices.values():\n",
        "    label_indices = set(label_indices) - set(train_indices) - set(test_indices)  # Remove train and validation indices from consideration\n",
        "    val_indices += label_indices\n",
        "    # test_indices += random.sample(label_indices, 20)\n",
        "    # num_val_samples = int(0.1 * len(label_indices))  # 70-20-10 split between train, validation, and test\n",
        "    # val_indices += random.sample(label_indices, num_val_samples)\n",
        "    random.shuffle(val_indices)\n",
        "val = [dataset[i] for i in val_indices] \n",
        "# val = [dataset[i] for i in val_indices[0:100]] \n",
        "\n",
        "print(f\"Size of train set is {len(train)}\")\n",
        "print(f\"Size of test set is {len(test)}\")\n",
        "print(f\"Size of val set is {len(val)}\")"
      ]
    },
    {
      "cell_type": "code",
      "execution_count": 38,
      "metadata": {},
      "outputs": [
        {
          "data": {
            "text/plain": [
              "[{'num_node': 2,\n",
              "  'node_type': tensor([0, 1], dtype=torch.int8),\n",
              "  'adj': tensor([[0, 1, 0, 0, 0, 0, 0, 0, 0, 0, 0, 0, 0, 0, 0, 0],\n",
              "          [0, 0, 0, 0, 0, 0, 0, 0, 0, 0, 0, 0, 0, 0, 0, 0],\n",
              "          [0, 0, 0, 0, 0, 0, 0, 0, 0, 0, 0, 0, 0, 0, 0, 0],\n",
              "          [0, 0, 0, 0, 0, 0, 0, 0, 0, 0, 0, 0, 0, 0, 0, 0],\n",
              "          [0, 0, 0, 0, 0, 0, 0, 0, 0, 0, 0, 0, 0, 0, 0, 0],\n",
              "          [0, 0, 0, 0, 0, 0, 0, 0, 0, 0, 0, 0, 0, 0, 0, 0],\n",
              "          [0, 0, 0, 0, 0, 0, 0, 0, 0, 0, 0, 0, 0, 0, 0, 0],\n",
              "          [0, 0, 0, 0, 0, 0, 0, 0, 0, 0, 0, 0, 0, 0, 0, 0],\n",
              "          [0, 0, 0, 0, 0, 0, 0, 0, 0, 0, 0, 0, 0, 0, 0, 0],\n",
              "          [0, 0, 0, 0, 0, 0, 0, 0, 0, 0, 0, 0, 0, 0, 0, 0],\n",
              "          [0, 0, 0, 0, 0, 0, 0, 0, 0, 0, 0, 0, 0, 0, 0, 0],\n",
              "          [0, 0, 0, 0, 0, 0, 0, 0, 0, 0, 0, 0, 0, 0, 0, 0],\n",
              "          [0, 0, 0, 0, 0, 0, 0, 0, 0, 0, 0, 0, 0, 0, 0, 0],\n",
              "          [0, 0, 0, 0, 0, 0, 0, 0, 0, 0, 0, 0, 0, 0, 0, 0],\n",
              "          [0, 0, 0, 0, 0, 0, 0, 0, 0, 0, 0, 0, 0, 0, 0, 0],\n",
              "          [0, 0, 0, 0, 0, 0, 0, 0, 0, 0, 0, 0, 0, 0, 0, 0]], dtype=torch.int8),\n",
              "  'target': tensor(11)},\n",
              " {'num_node': 2,\n",
              "  'node_type': tensor([0, 1], dtype=torch.int8),\n",
              "  'adj': tensor([[0, 1, 0, 0, 0, 0, 0, 0, 0, 0, 0, 0, 0, 0, 0, 0],\n",
              "          [0, 0, 0, 0, 0, 0, 0, 0, 0, 0, 0, 0, 0, 0, 0, 0],\n",
              "          [0, 0, 0, 0, 0, 0, 0, 0, 0, 0, 0, 0, 0, 0, 0, 0],\n",
              "          [0, 0, 0, 0, 0, 0, 0, 0, 0, 0, 0, 0, 0, 0, 0, 0],\n",
              "          [0, 0, 0, 0, 0, 0, 0, 0, 0, 0, 0, 0, 0, 0, 0, 0],\n",
              "          [0, 0, 0, 0, 0, 0, 0, 0, 0, 0, 0, 0, 0, 0, 0, 0],\n",
              "          [0, 0, 0, 0, 0, 0, 0, 0, 0, 0, 0, 0, 0, 0, 0, 0],\n",
              "          [0, 0, 0, 0, 0, 0, 0, 0, 0, 0, 0, 0, 0, 0, 0, 0],\n",
              "          [0, 0, 0, 0, 0, 0, 0, 0, 0, 0, 0, 0, 0, 0, 0, 0],\n",
              "          [0, 0, 0, 0, 0, 0, 0, 0, 0, 0, 0, 0, 0, 0, 0, 0],\n",
              "          [0, 0, 0, 0, 0, 0, 0, 0, 0, 0, 0, 0, 0, 0, 0, 0],\n",
              "          [0, 0, 0, 0, 0, 0, 0, 0, 0, 0, 0, 0, 0, 0, 0, 0],\n",
              "          [0, 0, 0, 0, 0, 0, 0, 0, 0, 0, 0, 0, 0, 0, 0, 0],\n",
              "          [0, 0, 0, 0, 0, 0, 0, 0, 0, 0, 0, 0, 0, 0, 0, 0],\n",
              "          [0, 0, 0, 0, 0, 0, 0, 0, 0, 0, 0, 0, 0, 0, 0, 0],\n",
              "          [0, 0, 0, 0, 0, 0, 0, 0, 0, 0, 0, 0, 0, 0, 0, 0]], dtype=torch.int8),\n",
              "  'target': tensor(11)},\n",
              " {'num_node': 20,\n",
              "  'node_type': tensor([ 0,  1,  2,  3,  4,  5,  6,  7,  7,  7,  5,  7,  7, 14, 14, 14, 14, 14,\n",
              "          14, 14], dtype=torch.int8),\n",
              "  'adj': tensor([[0, 1, 0, 0, 0, 0, 0, 0, 0, 0, 0, 0, 0, 0, 0, 0],\n",
              "          [0, 0, 1, 0, 0, 0, 0, 0, 0, 0, 0, 0, 0, 0, 0, 0],\n",
              "          [0, 0, 0, 1, 0, 0, 0, 0, 0, 0, 0, 0, 0, 0, 0, 0],\n",
              "          [0, 0, 0, 0, 1, 0, 0, 0, 0, 0, 0, 0, 0, 0, 0, 0],\n",
              "          [0, 0, 0, 0, 0, 1, 0, 0, 0, 0, 0, 0, 0, 0, 0, 0],\n",
              "          [0, 0, 0, 0, 0, 0, 1, 1, 0, 0, 0, 0, 0, 0, 0, 0],\n",
              "          [0, 0, 0, 0, 0, 0, 0, 1, 0, 0, 0, 0, 0, 0, 0, 0],\n",
              "          [0, 0, 0, 0, 0, 1, 0, 1, 0, 0, 0, 0, 0, 0, 1, 0],\n",
              "          [0, 0, 0, 0, 0, 0, 0, 0, 0, 0, 0, 0, 0, 0, 0, 0],\n",
              "          [0, 0, 0, 0, 0, 0, 0, 0, 0, 0, 0, 0, 0, 0, 0, 0],\n",
              "          [0, 0, 0, 0, 0, 0, 0, 0, 0, 0, 0, 0, 0, 0, 0, 0],\n",
              "          [0, 0, 0, 0, 0, 0, 0, 0, 0, 0, 0, 0, 0, 0, 0, 0],\n",
              "          [0, 0, 0, 0, 0, 0, 0, 0, 0, 0, 0, 0, 0, 0, 0, 0],\n",
              "          [0, 0, 0, 0, 0, 0, 0, 0, 0, 0, 0, 0, 0, 0, 0, 0],\n",
              "          [0, 0, 0, 0, 0, 0, 0, 0, 0, 0, 0, 0, 0, 0, 1, 0],\n",
              "          [0, 0, 0, 0, 0, 0, 0, 0, 0, 0, 0, 0, 0, 0, 0, 0]], dtype=torch.int8),\n",
              "  'target': tensor(10)}]"
            ]
          },
          "execution_count": 38,
          "metadata": {},
          "output_type": "execute_result"
        }
      ],
      "source": [
        "test[10:13]"
      ]
    },
    {
      "cell_type": "code",
      "execution_count": 39,
      "metadata": {
        "id": "EBiNImE895nV"
      },
      "outputs": [
        {
          "name": "stdout",
          "output_type": "stream",
          "text": [
            "Time (sec): 10.218509674072266\n"
          ]
        }
      ],
      "source": [
        "#train, test_val_data = train_test_split(dataset, test_size=0.3, random_state=42)\n",
        "#test, val = train_test_split(test_val_data, test_size=0.7, random_state=42)\n",
        "\n",
        "start = time.time()\n",
        "with open(prj_path + 'igraph-GTN-train.pkl','wb') as f:\n",
        "        pickle.dump(train, f)\n",
        "with open(prj_path + 'igraph-GTN-test.pkl','wb') as f:\n",
        "        pickle.dump(test, f)\n",
        "with open(prj_path + 'igraph-GTN-val.pkl','wb') as f:\n",
        "        pickle.dump(val, f)\n",
        "\n",
        "print('Time (sec):',time.time() - start)"
      ]
    },
    {
      "attachments": {},
      "cell_type": "markdown",
      "metadata": {},
      "source": [
        "# Load Dataset"
      ]
    },
    {
      "cell_type": "code",
      "execution_count": 40,
      "metadata": {},
      "outputs": [
        {
          "name": "stdout",
          "output_type": "stream",
          "text": [
            "[I] Loading data ...\n",
            "preparing 50595 graphs for the TRAIN set...\n",
            "preparing 7236 graphs for the VAL set...\n",
            "preparing 14454 graphs for the TEST set...\n",
            "[I] Finished loading.\n",
            "Time taken: 370.1405s\n",
            "Time (sec): 37.08786725997925\n"
          ]
        }
      ],
      "source": [
        "if not os.path.isfile(prj_path + 'igraph-DatasetDGL.pkl'):\n",
        "  # file presente --> pkl load\n",
        "  # with open(prj_path + 'igraph-DatasetDGL.pkl', \"rb\") as f:\n",
        "  #   f = pickle.load(f)\n",
        "  #   datasetDGL = f\n",
        "  datasetDGL = IGsDataset()\n",
        "else:\n",
        "  # dataset non presente -> generazione\n",
        "  datasetDGL = IGsDatasetDGL()\n",
        "\n",
        "  start = time.time()\n",
        "  with open(prj_path + 'igraph-DatasetDGL.pkl', 'wb') as f:\n",
        "          #pickle.dump([datasetDGL.train,datasetDGL.val,datasetDGL.test], f)\n",
        "          pickle.dump(datasetDGL, f)\n",
        "  print('Time (sec):',time.time() - start)"
      ]
    },
    {
      "cell_type": "code",
      "execution_count": 28,
      "metadata": {},
      "outputs": [
        {
          "data": {
            "text/plain": [
              "Graph(num_nodes=29, num_edges=14,\n",
              "      ndata_schemes={'feat': Scheme(shape=(1,), dtype=torch.float32)}\n",
              "      edata_schemes={'feat': Scheme(shape=(1,), dtype=torch.float32)})"
            ]
          },
          "execution_count": 28,
          "metadata": {},
          "output_type": "execute_result"
        }
      ],
      "source": [
        "datasetDGL.train[1][0]"
      ]
    },
    {
      "cell_type": "code",
      "execution_count": 29,
      "metadata": {},
      "outputs": [
        {
          "data": {
            "text/plain": [
              "[tensor(10),\n",
              " tensor(14),\n",
              " tensor(10),\n",
              " tensor(6),\n",
              " tensor(4),\n",
              " tensor(2),\n",
              " tensor(10),\n",
              " tensor(7),\n",
              " tensor(5),\n",
              " tensor(4),\n",
              " tensor(13),\n",
              " tensor(8),\n",
              " tensor(8),\n",
              " tensor(3),\n",
              " tensor(15),\n",
              " tensor(2),\n",
              " tensor(5),\n",
              " tensor(13),\n",
              " tensor(6),\n",
              " tensor(2),\n",
              " tensor(2),\n",
              " tensor(5),\n",
              " tensor(15),\n",
              " tensor(6),\n",
              " tensor(12),\n",
              " tensor(7),\n",
              " tensor(9),\n",
              " tensor(11),\n",
              " tensor(6),\n",
              " tensor(6),\n",
              " tensor(9),\n",
              " tensor(8),\n",
              " tensor(4),\n",
              " tensor(13),\n",
              " tensor(3),\n",
              " tensor(9),\n",
              " tensor(11),\n",
              " tensor(13),\n",
              " tensor(8),\n",
              " tensor(13),\n",
              " tensor(7),\n",
              " tensor(4),\n",
              " tensor(13),\n",
              " tensor(7),\n",
              " tensor(15),\n",
              " tensor(11),\n",
              " tensor(9),\n",
              " tensor(13),\n",
              " tensor(7),\n",
              " tensor(2),\n",
              " tensor(9),\n",
              " tensor(10),\n",
              " tensor(11),\n",
              " tensor(3),\n",
              " tensor(3),\n",
              " tensor(8),\n",
              " tensor(9),\n",
              " tensor(5),\n",
              " tensor(3),\n",
              " tensor(2),\n",
              " tensor(3),\n",
              " tensor(4),\n",
              " tensor(14),\n",
              " tensor(10),\n",
              " tensor(7),\n",
              " tensor(14),\n",
              " tensor(9),\n",
              " tensor(9),\n",
              " tensor(3),\n",
              " tensor(3),\n",
              " tensor(15),\n",
              " tensor(4),\n",
              " tensor(12),\n",
              " tensor(5),\n",
              " tensor(9),\n",
              " tensor(6),\n",
              " tensor(12),\n",
              " tensor(15),\n",
              " tensor(12),\n",
              " tensor(15),\n",
              " tensor(11),\n",
              " tensor(5),\n",
              " tensor(11),\n",
              " tensor(12),\n",
              " tensor(6),\n",
              " tensor(11),\n",
              " tensor(3),\n",
              " tensor(8),\n",
              " tensor(3),\n",
              " tensor(15),\n",
              " tensor(11),\n",
              " tensor(2),\n",
              " tensor(9),\n",
              " tensor(15),\n",
              " tensor(4),\n",
              " tensor(4),\n",
              " tensor(9),\n",
              " tensor(13),\n",
              " tensor(14),\n",
              " tensor(6)]"
            ]
          },
          "execution_count": 29,
          "metadata": {},
          "output_type": "execute_result"
        }
      ],
      "source": [
        "graph, label = datasetDGL.train[0:100]\n",
        "label"
      ]
    },
    {
      "attachments": {},
      "cell_type": "markdown",
      "metadata": {},
      "source": []
    },
    {
      "attachments": {},
      "cell_type": "markdown",
      "metadata": {},
      "source": [
        "### Explore dataset"
      ]
    },
    {
      "cell_type": "code",
      "execution_count": 9,
      "metadata": {
        "id": "UROnwGJR_LZG"
      },
      "outputs": [
        {
          "name": "stdout",
          "output_type": "stream",
          "text": [
            "50595\n",
            "6515\n",
            "15175\n",
            "(Graph(num_nodes=17, num_edges=12,\n",
            "      ndata_schemes={'feat': Scheme(shape=(1,), dtype=torch.float32)}\n",
            "      edata_schemes={'feat': Scheme(shape=(1,), dtype=torch.float32)}), tensor(10))\n",
            "(Graph(num_nodes=14, num_edges=11,\n",
            "      ndata_schemes={'feat': Scheme(shape=(1,), dtype=torch.float32)}\n",
            "      edata_schemes={'feat': Scheme(shape=(1,), dtype=torch.float32)}), tensor(10))\n",
            "(Graph(num_nodes=10, num_edges=9,\n",
            "      ndata_schemes={'feat': Scheme(shape=(1,), dtype=torch.float32)}\n",
            "      edata_schemes={'feat': Scheme(shape=(1,), dtype=torch.float32)}), tensor(10))\n"
          ]
        }
      ],
      "source": [
        "print(len(datasetDGL.train))\n",
        "print(len(datasetDGL.val))\n",
        "print(len(datasetDGL.test))\n",
        "\n",
        "print(datasetDGL.train[0])\n",
        "print(datasetDGL.val[0])\n",
        "print(datasetDGL.test[0])"
      ]
    },
    {
      "cell_type": "code",
      "execution_count": 6,
      "metadata": {},
      "outputs": [
        {
          "ename": "NameError",
          "evalue": "name 'test' is not defined",
          "output_type": "error",
          "traceback": [
            "\u001b[1;31m---------------------------------------------------------------------------\u001b[0m",
            "\u001b[1;31mNameError\u001b[0m                                 Traceback (most recent call last)",
            "\u001b[1;32m<ipython-input-6-8db6202fa24a>\u001b[0m in \u001b[0;36m<module>\u001b[1;34m\u001b[0m\n\u001b[0;32m      4\u001b[0m \u001b[1;31m# Count number of data instances in each class for test set\u001b[0m\u001b[1;33m\u001b[0m\u001b[1;33m\u001b[0m\u001b[1;33m\u001b[0m\u001b[0m\n\u001b[0;32m      5\u001b[0m \u001b[0mclass_counts\u001b[0m \u001b[1;33m=\u001b[0m \u001b[0mdefaultdict\u001b[0m\u001b[1;33m(\u001b[0m\u001b[0mint\u001b[0m\u001b[1;33m)\u001b[0m\u001b[1;33m\u001b[0m\u001b[1;33m\u001b[0m\u001b[0m\n\u001b[1;32m----> 6\u001b[1;33m \u001b[1;32mfor\u001b[0m \u001b[0mi\u001b[0m\u001b[1;33m,\u001b[0m \u001b[0mdata\u001b[0m \u001b[1;32min\u001b[0m \u001b[0menumerate\u001b[0m\u001b[1;33m(\u001b[0m\u001b[0mtest\u001b[0m\u001b[1;33m)\u001b[0m\u001b[1;33m:\u001b[0m\u001b[1;33m\u001b[0m\u001b[1;33m\u001b[0m\u001b[0m\n\u001b[0m\u001b[0;32m      7\u001b[0m     \u001b[0mlabel\u001b[0m \u001b[1;33m=\u001b[0m \u001b[0mdata\u001b[0m\u001b[1;33m[\u001b[0m\u001b[1;34m'target'\u001b[0m\u001b[1;33m]\u001b[0m\u001b[1;33m\u001b[0m\u001b[1;33m\u001b[0m\u001b[0m\n\u001b[0;32m      8\u001b[0m     \u001b[0mclass_counts\u001b[0m\u001b[1;33m[\u001b[0m\u001b[0mlabel\u001b[0m\u001b[1;33m.\u001b[0m\u001b[0mitem\u001b[0m\u001b[1;33m(\u001b[0m\u001b[1;33m)\u001b[0m\u001b[1;33m]\u001b[0m \u001b[1;33m+=\u001b[0m \u001b[1;36m1\u001b[0m\u001b[1;33m\u001b[0m\u001b[1;33m\u001b[0m\u001b[0m\n",
            "\u001b[1;31mNameError\u001b[0m: name 'test' is not defined"
          ]
        }
      ],
      "source": [
        "import matplotlib.pyplot as plt\n",
        "from collections import defaultdict\n",
        "\n",
        "# Count number of data instances in each class for test set\n",
        "class_counts = defaultdict(int)\n",
        "for i, data in enumerate(test):\n",
        "    label = data['target']\n",
        "    class_counts[label.item()] += 1\n",
        "\n",
        "# Plot bar chart of class distribution for test set\n",
        "plt.bar(class_counts.keys(), class_counts.values())\n",
        "plt.xlabel('Class label')\n",
        "plt.ylabel('Number of data instances')\n",
        "plt.title('Class distribution for test set')\n",
        "plt.show()\n"
      ]
    },
    {
      "cell_type": "code",
      "execution_count": 7,
      "metadata": {},
      "outputs": [
        {
          "ename": "NameError",
          "evalue": "name 'train' is not defined",
          "output_type": "error",
          "traceback": [
            "\u001b[1;31m---------------------------------------------------------------------------\u001b[0m",
            "\u001b[1;31mNameError\u001b[0m                                 Traceback (most recent call last)",
            "\u001b[1;32m<ipython-input-7-76fe4e604ca2>\u001b[0m in \u001b[0;36m<module>\u001b[1;34m\u001b[0m\n\u001b[0;32m      1\u001b[0m \u001b[1;31m# Create set of unique classes in train set\u001b[0m\u001b[1;33m\u001b[0m\u001b[1;33m\u001b[0m\u001b[1;33m\u001b[0m\u001b[0m\n\u001b[0;32m      2\u001b[0m \u001b[0munique_classes\u001b[0m \u001b[1;33m=\u001b[0m \u001b[0mset\u001b[0m\u001b[1;33m(\u001b[0m\u001b[1;33m)\u001b[0m\u001b[1;33m\u001b[0m\u001b[1;33m\u001b[0m\u001b[0m\n\u001b[1;32m----> 3\u001b[1;33m \u001b[1;32mfor\u001b[0m \u001b[0mdata\u001b[0m \u001b[1;32min\u001b[0m \u001b[0mtrain\u001b[0m\u001b[1;33m:\u001b[0m\u001b[1;33m\u001b[0m\u001b[1;33m\u001b[0m\u001b[0m\n\u001b[0m\u001b[0;32m      4\u001b[0m     \u001b[0mlabel\u001b[0m \u001b[1;33m=\u001b[0m \u001b[0mdata\u001b[0m\u001b[1;33m[\u001b[0m\u001b[1;34m'target'\u001b[0m\u001b[1;33m]\u001b[0m\u001b[1;33m\u001b[0m\u001b[1;33m\u001b[0m\u001b[0m\n\u001b[0;32m      5\u001b[0m     \u001b[0munique_classes\u001b[0m\u001b[1;33m.\u001b[0m\u001b[0madd\u001b[0m\u001b[1;33m(\u001b[0m\u001b[0mlabel\u001b[0m\u001b[1;33m.\u001b[0m\u001b[0mitem\u001b[0m\u001b[1;33m(\u001b[0m\u001b[1;33m)\u001b[0m\u001b[1;33m)\u001b[0m\u001b[1;33m\u001b[0m\u001b[1;33m\u001b[0m\u001b[0m\n",
            "\u001b[1;31mNameError\u001b[0m: name 'train' is not defined"
          ]
        }
      ],
      "source": [
        "# Create set of unique classes in train set\n",
        "unique_classes = set()\n",
        "for data in train:\n",
        "    label = data['target']\n",
        "    unique_classes.add(label.item())\n",
        "\n",
        "# Count number of unique classes\n",
        "num_classes = len(unique_classes)\n",
        "print(\"Number of unique classes in train set: \", num_classes)\n",
        "print(unique_classes)"
      ]
    },
    {
      "cell_type": "code",
      "execution_count": 8,
      "metadata": {
        "id": "xYdQTxQW_Ok3"
      },
      "outputs": [
        {
          "data": {
            "image/png": "[encoded data removed]",
            "text/plain": [
              "<Figure size 432x288 with 1 Axes>"
            ]
          },
          "metadata": {
            "needs_background": "light"
          },
          "output_type": "display_data"
        },
        {
          "name": "stdout",
          "output_type": "stream",
          "text": [
            "min/max : 2 76\n"
          ]
        },
        {
          "data": {
            "image/png": "[encoded data removed]",
            "text/plain": [
              "<Figure size 432x288 with 1 Axes>"
            ]
          },
          "metadata": {
            "needs_background": "light"
          },
          "output_type": "display_data"
        },
        {
          "name": "stdout",
          "output_type": "stream",
          "text": [
            "min/max : 2 73\n"
          ]
        },
        {
          "data": {
            "image/png": "[encoded data removed]",
            "text/plain": [
              "<Figure size 432x288 with 1 Axes>"
            ]
          },
          "metadata": {
            "needs_background": "light"
          },
          "output_type": "display_data"
        },
        {
          "name": "stdout",
          "output_type": "stream",
          "text": [
            "min/max : 2 77\n"
          ]
        }
      ],
      "source": [
        "def plot_histo_graphs(dataset, title):\n",
        "    # histogram of graph sizes\n",
        "    graph_sizes = []\n",
        "    for graph in dataset:\n",
        "        graph_sizes.append(graph[0].number_of_nodes())\n",
        "    plt.figure(1)\n",
        "    plt.hist(graph_sizes, bins=20)\n",
        "    plt.title(title)\n",
        "    plt.show()\n",
        "    graph_sizes = torch.Tensor(graph_sizes)\n",
        "    print('min/max :',graph_sizes.min().long().item(),graph_sizes.max().long().item())\n",
        "\n",
        "plot_histo_graphs(datasetDGL.train,'trainset')\n",
        "plot_histo_graphs(datasetDGL.val,'valset')\n",
        "plot_histo_graphs(datasetDGL.test,'testset')"
      ]
    },
    {
      "attachments": {},
      "cell_type": "markdown",
      "metadata": {},
      "source": [
        "# Test"
      ]
    },
    {
      "cell_type": "code",
      "execution_count": 50,
      "metadata": {},
      "outputs": [
        {
          "data": {
            "text/plain": [
              "{'num_node': 14,\n",
              " 'node_type': tensor([0, 1, 2, 6, 6, 6, 6, 6, 6, 6, 6, 6, 6, 6], dtype=torch.int8),\n",
              " 'adj': tensor([[0, 1, 0, 0, 0, 0, 0],\n",
              "         [0, 0, 1, 0, 0, 0, 0],\n",
              "         [0, 0, 0, 0, 0, 0, 1],\n",
              "         [0, 0, 0, 0, 0, 0, 0],\n",
              "         [0, 0, 0, 0, 0, 0, 0],\n",
              "         [0, 0, 0, 0, 0, 0, 0],\n",
              "         [0, 0, 0, 0, 0, 0, 1]], dtype=torch.int8),\n",
              " 'target': tensor(6)}"
            ]
          },
          "execution_count": 50,
          "metadata": {},
          "output_type": "execute_result"
        }
      ],
      "source": [
        "train[0]"
      ]
    },
    {
      "cell_type": "code",
      "execution_count": 68,
      "metadata": {},
      "outputs": [
        {
          "data": {
            "text/plain": [
              "6"
            ]
          },
          "execution_count": 68,
          "metadata": {},
          "output_type": "execute_result"
        }
      ],
      "source": [
        "datasetDGL.train[0][1].item()\n"
      ]
    }
  ],
  "metadata": {
    "colab": {
      "provenance": []
    },
    "kernelspec": {
      "display_name": "Python 3",
      "name": "python3"
    },
    "language_info": {
      "codemirror_mode": {
        "name": "ipython",
        "version": 3
      },
      "file_extension": ".py",
      "mimetype": "text/x-python",
      "name": "python",
      "nbconvert_exporter": "python",
      "pygments_lexer": "ipython3",
      "version": "3.7.4"
    }
  },
  "nbformat": 4,
  "nbformat_minor": 0
}
