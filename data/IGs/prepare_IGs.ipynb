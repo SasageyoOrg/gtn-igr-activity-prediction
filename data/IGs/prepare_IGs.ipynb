{
  "cells": [
    {
      "attachments": {},
      "cell_type": "markdown",
      "metadata": {},
      "source": [
        "# Config and Imports"
      ]
    },
    {
      "cell_type": "code",
      "execution_count": 1,
      "metadata": {},
      "outputs": [
        {
          "name": "stdout",
          "output_type": "stream",
          "text": [
            "c:\\Users\\andri\\Progetti\\igraph_transformer\n"
          ]
        }
      ],
      "source": [
        "import os\n",
        "os.chdir('../../')\n",
        "prj_path = \"./data/IGs/\"\n",
        "print(os.getcwd())"
      ]
    },
    {
      "cell_type": "code",
      "execution_count": 2,
      "metadata": {
        "id": "nhxFAVLK9b12"
      },
      "outputs": [
        {
          "name": "stderr",
          "output_type": "stream",
          "text": [
            "Using backend: pytorch\n"
          ]
        }
      ],
      "source": [
        "import random\n",
        "\n",
        "import torch\n",
        "import pickle\n",
        "import torch.utils.data\n",
        "import time\n",
        "\n",
        "%matplotlib inline\n",
        "import matplotlib.pyplot as plt\n",
        "\n",
        "from sklearn.model_selection import train_test_split\n",
        "\n",
        "from data.IGs import IGsDatasetDGL\n"
      ]
    },
    {
      "attachments": {},
      "cell_type": "markdown",
      "metadata": {},
      "source": [
        "# Prepare dataset"
      ]
    },
    {
      "cell_type": "code",
      "execution_count": 3,
      "metadata": {
        "id": "E69YQhWk9hrB"
      },
      "outputs": [],
      "source": [
        "def track_list_to_adjacency_matrix(track_list):\n",
        "    # Determine the maximum number of nodes in the track\n",
        "    num_nodes = max(track_list) + 1\n",
        "\n",
        "    # Create an empty adjacency matrix\n",
        "    adjacency_matrix = [[0] * num_nodes for _ in range(num_nodes)]\n",
        "\n",
        "    # Add connections to the adjacency matrix\n",
        "    for i in range(len(track_list) - 1):\n",
        "        current_node = track_list[i]\n",
        "        next_node = track_list[i + 1]\n",
        "        adjacency_matrix[current_node][next_node] = 1\n",
        "\n",
        "    return adjacency_matrix\n",
        "\n",
        "\n",
        "data_list = []\n",
        "dataset = []\n",
        "\n",
        "with open(prj_path + 'ig_subgraphs.txt', 'r') as file:\n",
        "    for line in file:\n",
        "        line = line.strip()  # Remove whitespace and newline characters\n",
        "        values = line.split(']')  # Split the line based on the ']' character\n",
        "        nums = values[0].strip('[, ')  # Extract the numbers inside the square brackets\n",
        "        nums = [int(num) for num in nums.split(',')]  # Convert the numbers into a list of integers\n",
        "        num_after_bracket = int(values[1].strip())  # Extract the number after the square bracket\n",
        "        data_list.append([nums, num_after_bracket])\n",
        "\n",
        "random.shuffle(data_list)\n",
        "\n",
        "for data in data_list:\n",
        "    obj = {\n",
        "        'num_node': len(data[0]),\n",
        "        'node_type': torch.tensor(data[0], dtype=torch.int8),\n",
        "        'adj' : torch.tensor(track_list_to_adjacency_matrix(data[0]), dtype=torch.int8),\n",
        "        'target': torch.tensor(data[1])\n",
        "    }\n",
        "    dataset.append(obj)\n",
        "\n",
        "with open(prj_path + 'igraph-GTN.pkl', 'wb') as f:\n",
        "    pickle.dump(dataset, f)"
      ]
    },
    {
      "attachments": {},
      "cell_type": "markdown",
      "metadata": {},
      "source": [
        "### Split and Dump train,val,test pkl"
      ]
    },
    {
      "cell_type": "code",
      "execution_count": 88,
      "metadata": {},
      "outputs": [],
      "source": [
        "from torch.utils.data import SubsetRandomSampler, DataLoader\n",
        "from collections import defaultdict\n",
        "# Create dictionary to keep track of indices for each class label\n",
        "indices = defaultdict(list)\n",
        "for i, data in enumerate(dataset):\n",
        "    label = data['target']\n",
        "    indices[label.item()].append(i)\n",
        "\n",
        "# Sample balanced subset of indices from each class for train set\n",
        "train_indices = []\n",
        "for label_indices in indices.values():\n",
        "    num_samples = len(label_indices)\n",
        "    num_train_samples = int(0.7 * num_samples)  # 70-30 split between train and validation\n",
        "    train_indices += random.sample(label_indices, num_train_samples)\n",
        "train = [dataset[i] for i in train_indices]\n",
        "\n",
        "# Sample balanced subset of indices from each class for test set\n",
        "test_indices = []\n",
        "for label_indices in indices.values():\n",
        "    label_indices = set(label_indices) - set(train_indices)  # Remove train indices from consideration\n",
        "    num_samples = len(label_indices)\n",
        "    num_val_samples = int(0.7 * num_samples)  # 70-20-10 split between train, validation, and test\n",
        "    test_indices += random.sample(label_indices, num_val_samples)\n",
        "test = [dataset[i] for i in test_indices]\n",
        "\n",
        "# Sample balanced subset of indices from each class for val set\n",
        "val_indices = []\n",
        "for label_indices in indices.values():\n",
        "    label_indices = set(label_indices) - set(train_indices) - set(test_indices)  # Remove train and validation indices from consideration\n",
        "    val_indices += label_indices\n",
        "val = [dataset[i] for i in val_indices] \n",
        "\n",
        "print(f\"Size of train set is {len(train)}\")\n",
        "print(f\"Size of test set is {len(test)}\")\n",
        "print(f\"Size of val set is {len(val)}\")"
      ]
    },
    {
      "cell_type": "code",
      "execution_count": 90,
      "metadata": {
        "id": "EBiNImE895nV"
      },
      "outputs": [
        {
          "name": "stdout",
          "output_type": "stream",
          "text": [
            "Time (sec): 28.275043487548828\n"
          ]
        }
      ],
      "source": [
        "#train, test_val_data = train_test_split(dataset, test_size=0.3, random_state=42)\n",
        "#test, val = train_test_split(test_val_data, test_size=0.7, random_state=42)\n",
        "\n",
        "start = time.time()\n",
        "with open(prj_path + 'igraph-GTN-train.pkl','wb') as f:\n",
        "        pickle.dump(train, f)\n",
        "with open(prj_path + 'igraph-GTN-test.pkl','wb') as f:\n",
        "        pickle.dump(test, f)\n",
        "with open(prj_path + 'igraph-GTN-val.pkl','wb') as f:\n",
        "        pickle.dump(val, f)\n",
        "\n",
        "print('Time (sec):',time.time() - start)"
      ]
    },
    {
      "attachments": {},
      "cell_type": "markdown",
      "metadata": {},
      "source": [
        "# Load Dataset"
      ]
    },
    {
      "attachments": {},
      "cell_type": "markdown",
      "metadata": {},
      "source": [
        "### Open from pkl"
      ]
    },
    {
      "cell_type": "code",
      "execution_count": 17,
      "metadata": {},
      "outputs": [],
      "source": [
        "with open(prj_path + 'igraph-DatasetDGL.pkl', \"rb\") as f:\n",
        "  f = pickle.load(f)\n",
        "  datasetDGL = f"
      ]
    },
    {
      "attachments": {},
      "cell_type": "markdown",
      "metadata": {},
      "source": [
        "### Generate dataset & save to pkl (RUN ONLY ONCE)"
      ]
    },
    {
      "cell_type": "code",
      "execution_count": 91,
      "metadata": {
        "id": "9VJXssCr-D-W"
      },
      "outputs": [
        {
          "name": "stdout",
          "output_type": "stream",
          "text": [
            "[I] Loading data ...\n",
            "preparing 50595 graphs for the TRAIN set...\n",
            "preparing 6515 graphs for the VAL set...\n",
            "preparing 15175 graphs for the TEST set...\n",
            "[I] Finished loading.\n",
            "Time taken: 375.1413s\n",
            "Time (sec): 45.95740842819214\n"
          ]
        }
      ],
      "source": [
        "datasetDGL = IGsDatasetDGL()\n",
        "\n",
        "# Save IG dataset DGL\n",
        "start = time.time()\n",
        "with open(prj_path + 'igraph-DatasetDGL.pkl', 'wb') as f:\n",
        "        #pickle.dump([datasetDGL.train,datasetDGL.val,datasetDGL.test], f)\n",
        "        pickle.dump(datasetDGL, f)\n",
        "print('Time (sec):',time.time() - start)"
      ]
    },
    {
      "attachments": {},
      "cell_type": "markdown",
      "metadata": {},
      "source": [
        "### Explore dataset"
      ]
    },
    {
      "cell_type": "code",
      "execution_count": 92,
      "metadata": {
        "id": "UROnwGJR_LZG"
      },
      "outputs": [
        {
          "name": "stdout",
          "output_type": "stream",
          "text": [
            "50595\n",
            "6515\n",
            "15175\n",
            "(Graph(num_nodes=6, num_edges=5,\n",
            "      ndata_schemes={'feat': Scheme(shape=(), dtype=torch.int64)}\n",
            "      edata_schemes={'feat': Scheme(shape=(), dtype=torch.int64)}), tensor(6))\n",
            "(Graph(num_nodes=11, num_edges=4,\n",
            "      ndata_schemes={'feat': Scheme(shape=(), dtype=torch.int64)}\n",
            "      edata_schemes={'feat': Scheme(shape=(), dtype=torch.int64)}), tensor(6))\n",
            "(Graph(num_nodes=8, num_edges=7,\n",
            "      ndata_schemes={'feat': Scheme(shape=(), dtype=torch.int64)}\n",
            "      edata_schemes={'feat': Scheme(shape=(), dtype=torch.int64)}), tensor(6))\n"
          ]
        }
      ],
      "source": [
        "print(len(datasetDGL.train))\n",
        "print(len(datasetDGL.val))\n",
        "print(len(datasetDGL.test))\n",
        "\n",
        "print(datasetDGL.train[0])\n",
        "print(datasetDGL.val[0])\n",
        "print(datasetDGL.test[0])"
      ]
    },
    {
      "cell_type": "code",
      "execution_count": 94,
      "metadata": {},
      "outputs": [
        {
          "data": {
            "image/png": "[encoded data removed]",
            "text/plain": [
              "<Figure size 432x288 with 1 Axes>"
            ]
          },
          "metadata": {
            "needs_background": "light"
          },
          "output_type": "display_data"
        }
      ],
      "source": [
        "import matplotlib.pyplot as plt\n",
        "\n",
        "# Count number of data instances in each class for test set\n",
        "class_counts = defaultdict(int)\n",
        "for i, data in enumerate(test):\n",
        "    label = data['target']\n",
        "    class_counts[label.item()] += 1\n",
        "\n",
        "# Plot bar chart of class distribution for test set\n",
        "plt.bar(class_counts.keys(), class_counts.values())\n",
        "plt.xlabel('Class label')\n",
        "plt.ylabel('Number of data instances')\n",
        "plt.title('Class distribution for test set')\n",
        "plt.show()\n"
      ]
    },
    {
      "cell_type": "code",
      "execution_count": 99,
      "metadata": {},
      "outputs": [
        {
          "name": "stdout",
          "output_type": "stream",
          "text": [
            "Number of unique classes in train set:  14\n",
            "{2, 3, 4, 5, 6, 7, 8, 9, 10, 11, 12, 13, 14, 15}\n"
          ]
        }
      ],
      "source": [
        "# Create set of unique classes in train set\n",
        "unique_classes = set()\n",
        "for data in train:\n",
        "    label = data['target']\n",
        "    unique_classes.add(label.item())\n",
        "\n",
        "# Count number of unique classes\n",
        "num_classes = len(unique_classes)\n",
        "print(\"Number of unique classes in train set: \", num_classes)\n",
        "print(unique_classes)"
      ]
    },
    {
      "cell_type": "code",
      "execution_count": 93,
      "metadata": {
        "id": "xYdQTxQW_Ok3"
      },
      "outputs": [
        {
          "data": {
            "image/png": "[encoded data removed]",
            "text/plain": [
              "<Figure size 432x288 with 1 Axes>"
            ]
          },
          "metadata": {
            "needs_background": "light"
          },
          "output_type": "display_data"
        },
        {
          "name": "stdout",
          "output_type": "stream",
          "text": [
            "min/max : 2 76\n"
          ]
        },
        {
          "data": {
            "image/png": "[encoded data removed]",
            "text/plain": [
              "<Figure size 432x288 with 1 Axes>"
            ]
          },
          "metadata": {
            "needs_background": "light"
          },
          "output_type": "display_data"
        },
        {
          "name": "stdout",
          "output_type": "stream",
          "text": [
            "min/max : 2 73\n"
          ]
        },
        {
          "data": {
            "image/png": "[encoded data removed]",
            "text/plain": [
              "<Figure size 432x288 with 1 Axes>"
            ]
          },
          "metadata": {
            "needs_background": "light"
          },
          "output_type": "display_data"
        },
        {
          "name": "stdout",
          "output_type": "stream",
          "text": [
            "min/max : 2 77\n"
          ]
        }
      ],
      "source": [
        "def plot_histo_graphs(dataset, title):\n",
        "    # histogram of graph sizes\n",
        "    graph_sizes = []\n",
        "    for graph in dataset:\n",
        "        graph_sizes.append(graph[0].number_of_nodes())\n",
        "    plt.figure(1)\n",
        "    plt.hist(graph_sizes, bins=20)\n",
        "    plt.title(title)\n",
        "    plt.show()\n",
        "    graph_sizes = torch.Tensor(graph_sizes)\n",
        "    print('min/max :',graph_sizes.min().long().item(),graph_sizes.max().long().item())\n",
        "\n",
        "plot_histo_graphs(datasetDGL.train,'trainset')\n",
        "plot_histo_graphs(datasetDGL.val,'valset')\n",
        "plot_histo_graphs(datasetDGL.test,'testset')"
      ]
    },
    {
      "attachments": {},
      "cell_type": "markdown",
      "metadata": {},
      "source": [
        "# Test"
      ]
    },
    {
      "cell_type": "code",
      "execution_count": 50,
      "metadata": {},
      "outputs": [
        {
          "data": {
            "text/plain": [
              "{'num_node': 14,\n",
              " 'node_type': tensor([0, 1, 2, 6, 6, 6, 6, 6, 6, 6, 6, 6, 6, 6], dtype=torch.int8),\n",
              " 'adj': tensor([[0, 1, 0, 0, 0, 0, 0],\n",
              "         [0, 0, 1, 0, 0, 0, 0],\n",
              "         [0, 0, 0, 0, 0, 0, 1],\n",
              "         [0, 0, 0, 0, 0, 0, 0],\n",
              "         [0, 0, 0, 0, 0, 0, 0],\n",
              "         [0, 0, 0, 0, 0, 0, 0],\n",
              "         [0, 0, 0, 0, 0, 0, 1]], dtype=torch.int8),\n",
              " 'target': tensor(6)}"
            ]
          },
          "execution_count": 50,
          "metadata": {},
          "output_type": "execute_result"
        }
      ],
      "source": [
        "train[0]"
      ]
    },
    {
      "cell_type": "code",
      "execution_count": 68,
      "metadata": {},
      "outputs": [
        {
          "data": {
            "text/plain": [
              "6"
            ]
          },
          "execution_count": 68,
          "metadata": {},
          "output_type": "execute_result"
        }
      ],
      "source": [
        "datasetDGL.train[0][1].item()\n"
      ]
    },
    {
      "cell_type": "code",
      "execution_count": null,
      "metadata": {},
      "outputs": [],
      "source": []
    }
  ],
  "metadata": {
    "colab": {
      "provenance": []
    },
    "kernelspec": {
      "display_name": "Python 3",
      "name": "python3"
    },
    "language_info": {
      "codemirror_mode": {
        "name": "ipython",
        "version": 3
      },
      "file_extension": ".py",
      "mimetype": "text/x-python",
      "name": "python",
      "nbconvert_exporter": "python",
      "pygments_lexer": "ipython3",
      "version": "3.7.4"
    }
  },
  "nbformat": 4,
  "nbformat_minor": 0
}
