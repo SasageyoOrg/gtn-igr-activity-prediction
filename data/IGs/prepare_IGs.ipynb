{
  "cells": [
    {
      "attachments": {},
      "cell_type": "markdown",
      "metadata": {},
      "source": [
        "# Config and Imports"
      ]
    },
    {
      "cell_type": "code",
      "execution_count": 1,
      "metadata": {},
      "outputs": [
        {
          "name": "stdout",
          "output_type": "stream",
          "text": [
            "c:\\Users\\andri\\Progetti\\igraph_transformer\n"
          ]
        }
      ],
      "source": [
        "import os\n",
        "os.chdir('../../')\n",
        "prj_path = \"./data/IGs/\"\n",
        "print(os.getcwd())"
      ]
    },
    {
      "cell_type": "code",
      "execution_count": 2,
      "metadata": {
        "id": "nhxFAVLK9b12"
      },
      "outputs": [
        {
          "name": "stderr",
          "output_type": "stream",
          "text": [
            "Using backend: pytorch\n"
          ]
        }
      ],
      "source": [
        "import random\n",
        "\n",
        "import torch\n",
        "import pickle\n",
        "import torch.utils.data\n",
        "import time\n",
        "import os\n",
        "\n",
        "\n",
        "import networkx as nx\n",
        "\n",
        "%matplotlib inline\n",
        "\n",
        "from data.IGs import IGsDatasetDGL"
      ]
    },
    {
      "attachments": {},
      "cell_type": "markdown",
      "metadata": {},
      "source": [
        "# Prepare dataset"
      ]
    },
    {
      "attachments": {},
      "cell_type": "markdown",
      "metadata": {},
      "source": [
        "txt --> train/test/val PKL: NO DGL"
      ]
    },
    {
      "cell_type": "code",
      "execution_count": 3,
      "metadata": {},
      "outputs": [],
      "source": [
        "data_list = []\n",
        "dataset = []\n",
        "\n",
        "#data_path = prj_path + 'ig_subgraphs.txt'\n",
        "with open(prj_path + 'ig_subgraphs.txt', 'r') as file:\n",
        "    for line in file:\n",
        "        line = line.strip()  # Remove whitespace and newline characters\n",
        "        values = line.split(']')  # Split the line based on the ']' character\n",
        "        nums = values[0].strip('[, ')  # Extract the numbers inside the square brackets\n",
        "        nums = [int(num) for num in nums.split(',')]  # Convert the numbers into a list of integers\n",
        "        num_after_bracket = int(values[1].strip())  # Extract the number after the square bracket\n",
        "        data_list.append([nums, num_after_bracket])\n",
        "\n",
        "random.shuffle(data_list)\n",
        "\n",
        "G = nx.Graph()\n",
        "\n",
        "for data in data_list:\n",
        "  nodes, label = data[:2]\n",
        "  edges = [(nodes[i], nodes[i+1]) for i in range(len(nodes)-1)]\n",
        "\n",
        "  G.clear()  # Svuota il grafo precedente\n",
        "  G.add_nodes_from(nodes)\n",
        "  G.add_edges_from(edges)\n",
        "\n",
        "  obj = (G.copy(), int(label))\n",
        "  dataset.append(obj)\n",
        "  \n",
        "with open(prj_path + 'igraph-GTN.pkl', 'wb') as f:\n",
        "  pickle.dump(dataset, f)"
      ]
    },
    {
      "cell_type": "code",
      "execution_count": 4,
      "metadata": {},
      "outputs": [
        {
          "data": {
            "text/plain": [
              "13811"
            ]
          },
          "execution_count": 4,
          "metadata": {},
          "output_type": "execute_result"
        }
      ],
      "source": [
        "# dataset = [data for data in dataset if data[1] != 15]\n",
        "len(dataset)"
      ]
    },
    {
      "attachments": {},
      "cell_type": "markdown",
      "metadata": {},
      "source": [
        "### Split and Dump train,val,test pkl"
      ]
    },
    {
      "cell_type": "code",
      "execution_count": 5,
      "metadata": {},
      "outputs": [
        {
          "name": "stdout",
          "output_type": "stream",
          "text": [
            "Train set size: 11048\n",
            "Test set size: 2763\n"
          ]
        }
      ],
      "source": [
        "from torch.utils.data import Subset\n",
        "from sklearn.model_selection import StratifiedKFold,StratifiedShuffleSplit\n",
        "\n",
        "import random\n",
        "import torch\n",
        "import numpy as np\n",
        "\n",
        "from collections import defaultdict\n",
        "\n",
        "#-------------------------------TRAIN/TEST/VAL SPLIT-----------------------------\n",
        "seed = 10\n",
        "random.seed(seed)\n",
        "torch.manual_seed(seed)\n",
        "\n",
        "train_p = 0.80  # Train set percentage\n",
        "test_p = 0.15  # Test set percentage\n",
        "\n",
        "num_samples_train = int(train_p * len(dataset))\n",
        "# Use StratifiedKFold to split the data into train and test sets stratifically\n",
        "sss_train_test = StratifiedShuffleSplit(n_splits=1, train_size=num_samples_train, random_state=seed)\n",
        "\n",
        "# Get the data and targets from the dataset\n",
        "data = [sample[0] for sample in dataset]\n",
        "targets = [sample[1] for sample in dataset]\n",
        "\n",
        "# Convert data and targets to numpy arrays\n",
        "data = np.array(data)\n",
        "targets = np.array(targets)\n",
        "\n",
        "for train_index, test_index in sss_train_test.split(data, targets):\n",
        "    # Split the data into train and test sets\n",
        "    data_train, data_test = data[train_index], data[test_index]\n",
        "    targets_train, targets_test = targets[train_index], targets[test_index]\n",
        "print(f\"Train set size: {len(data_train)}\\nTest set size: {len(data_test)}\")"
      ]
    },
    {
      "cell_type": "code",
      "execution_count": 6,
      "metadata": {},
      "outputs": [
        {
          "name": "stdout",
          "output_type": "stream",
          "text": [
            "Total samples in dataset: 11048\n",
            "class 7: 2062 samples\n",
            "class 10: 2156 samples\n",
            "class 9: 1619 samples\n",
            "class 15: 43 samples\n",
            "class 14: 3069 samples\n",
            "class 5: 414 samples\n",
            "class 8: 391 samples\n",
            "class 6: 319 samples\n",
            "class 11: 349 samples\n",
            "class 3: 53 samples\n",
            "class 12: 458 samples\n",
            "class 13: 43 samples\n",
            "class 4: 62 samples\n",
            "class 2: 10 samples\n"
          ]
        },
        {
          "data": {
            "image/png": "[encoded data removed]",
            "text/plain": [
              "<Figure size 432x288 with 1 Axes>"
            ]
          },
          "metadata": {
            "needs_background": "light"
          },
          "output_type": "display_data"
        }
      ],
      "source": [
        "import matplotlib.pyplot as plt\n",
        "from collections import defaultdict\n",
        "\n",
        "train = Subset(dataset, train_index)\n",
        "test = Subset(dataset, test_index)\n",
        "\n",
        "\n",
        "plt_ds = train\n",
        "\n",
        "print(f\"Total samples in dataset: {len(plt_ds)}\")\n",
        "# Count number of data instances in each class for test set\n",
        "class_counts = defaultdict(int)\n",
        "for i, data in enumerate(plt_ds):\n",
        "    label = data[1]\n",
        "    class_counts[label] += 1\n",
        "\n",
        "for key, value in class_counts.items():\n",
        "    print(f\"class {key}: {value} samples\")\n",
        "\n",
        "# Plot bar chart of class distribution for test set\n",
        "plt.bar(class_counts.keys(), class_counts.values())\n",
        "plt.xlabel('Class label')\n",
        "plt.ylabel('Number of data instances')\n",
        "plt.title(f'Class distribution')\n",
        "plt.show()\n"
      ]
    },
    {
      "cell_type": "code",
      "execution_count": 7,
      "metadata": {
        "id": "EBiNImE895nV"
      },
      "outputs": [
        {
          "name": "stdout",
          "output_type": "stream",
          "text": [
            "Time (sec): 0.43244028091430664\n"
          ]
        }
      ],
      "source": [
        "start = time.time()\n",
        "with open(prj_path + 'igraph-GTN-train.pkl','wb') as f:\n",
        "        pickle.dump(train, f)\n",
        "with open(prj_path + 'igraph-GTN-test.pkl','wb') as f:\n",
        "        pickle.dump(test, f)\n",
        "\n",
        "print('Time (sec):',time.time() - start)"
      ]
    },
    {
      "attachments": {},
      "cell_type": "markdown",
      "metadata": {},
      "source": [
        "# Load Dataset"
      ]
    },
    {
      "cell_type": "code",
      "execution_count": 8,
      "metadata": {},
      "outputs": [
        {
          "name": "stdout",
          "output_type": "stream",
          "text": [
            "[I] Loading data ...\n",
            "preparing 11048 graphs for the TRAIN set...\n"
          ]
        },
        {
          "name": "stderr",
          "output_type": "stream",
          "text": [
            "c:\\Users\\andri\\miniconda3\\envs\\graph_transformer\\lib\\site-packages\\dgl\\base.py:45: DGLWarning: Recommend creating graphs by `dgl.graph(data)` instead of `dgl.DGLGraph(data)`.\n",
            "  return warnings.warn(message, category=category, stacklevel=1)\n"
          ]
        },
        {
          "name": "stdout",
          "output_type": "stream",
          "text": [
            "preparing 2763 graphs for the TEST set...\n",
            "[I] Finished loading.\n",
            "Time taken: 203.1507s\n",
            "Time (sec): 6.422489166259766\n"
          ]
        }
      ],
      "source": [
        "datasetDGL = IGsDatasetDGL()\n",
        "\n",
        "start = time.time()\n",
        "with open(prj_path + 'igraph-DatasetDGL.pkl', 'wb') as f:\n",
        "        #pickle.dump([datasetDGL.train,datasetDGL.val,datasetDGL.test], f)\n",
        "        pickle.dump(datasetDGL, f)\n",
        "print('Time (sec):',time.time() - start)"
      ]
    },
    {
      "cell_type": "code",
      "execution_count": 13,
      "metadata": {},
      "outputs": [
        {
          "data": {
            "text/plain": [
              "Graph(num_nodes=15, num_edges=26,\n",
              "      ndata_schemes={'feat': Scheme(shape=(1,), dtype=torch.float32)}\n",
              "      edata_schemes={'feat': Scheme(shape=(1,), dtype=torch.float32)})"
            ]
          },
          "execution_count": 13,
          "metadata": {},
          "output_type": "execute_result"
        }
      ],
      "source": [
        "datasetDGL.train[1][0]"
      ]
    },
    {
      "cell_type": "code",
      "execution_count": 14,
      "metadata": {},
      "outputs": [
        {
          "name": "stdout",
          "output_type": "stream",
          "text": [
            "Max graph size is: 16\n"
          ]
        }
      ],
      "source": [
        "max_num_nodes = 0\n",
        "for graph, _ in datasetDGL.test:\n",
        "    num_nodes = graph.number_of_nodes()\n",
        "    if num_nodes > max_num_nodes:\n",
        "        max_num_nodes = num_nodes\n",
        "print(f\"Max graph size is: {max_num_nodes}\")"
      ]
    },
    {
      "attachments": {},
      "cell_type": "markdown",
      "metadata": {},
      "source": []
    },
    {
      "attachments": {},
      "cell_type": "markdown",
      "metadata": {},
      "source": [
        "### Explore dataset"
      ]
    },
    {
      "cell_type": "code",
      "execution_count": 16,
      "metadata": {
        "id": "UROnwGJR_LZG"
      },
      "outputs": [
        {
          "name": "stdout",
          "output_type": "stream",
          "text": [
            "2568\n",
            "643\n",
            "(Graph(num_nodes=15, num_edges=28,\n",
            "      ndata_schemes={'feat': Scheme(shape=(1,), dtype=torch.float32)}\n",
            "      edata_schemes={'feat': Scheme(shape=(1,), dtype=torch.float32)}), tensor(9))\n",
            "(Graph(num_nodes=14, num_edges=24,\n",
            "      ndata_schemes={'feat': Scheme(shape=(1,), dtype=torch.float32)}\n",
            "      edata_schemes={'feat': Scheme(shape=(1,), dtype=torch.float32)}), tensor(9))\n"
          ]
        }
      ],
      "source": [
        "print(len(datasetDGL.train))\n",
        "print(len(datasetDGL.test))\n",
        "\n",
        "print(datasetDGL.train[0])\n",
        "print(datasetDGL.test[0])"
      ]
    },
    {
      "cell_type": "code",
      "execution_count": 93,
      "metadata": {
        "id": "xYdQTxQW_Ok3"
      },
      "outputs": [
        {
          "data": {
            "image/png": "[encoded data removed]",
            "text/plain": [
              "<Figure size 432x288 with 1 Axes>"
            ]
          },
          "metadata": {
            "needs_background": "light"
          },
          "output_type": "display_data"
        },
        {
          "name": "stdout",
          "output_type": "stream",
          "text": [
            "min/max : 2 16\n"
          ]
        },
        {
          "data": {
            "image/png": "[encoded data removed]",
            "text/plain": [
              "<Figure size 432x288 with 1 Axes>"
            ]
          },
          "metadata": {
            "needs_background": "light"
          },
          "output_type": "display_data"
        },
        {
          "name": "stdout",
          "output_type": "stream",
          "text": [
            "min/max : 2 16\n"
          ]
        },
        {
          "data": {
            "image/png": "[encoded data removed]",
            "text/plain": [
              "<Figure size 432x288 with 1 Axes>"
            ]
          },
          "metadata": {
            "needs_background": "light"
          },
          "output_type": "display_data"
        },
        {
          "name": "stdout",
          "output_type": "stream",
          "text": [
            "min/max : 2 16\n"
          ]
        }
      ],
      "source": [
        "def plot_histo_graphs(dataset, title):\n",
        "    # histogram of graph sizes\n",
        "    graph_sizes = []\n",
        "    for graph in dataset:\n",
        "        graph_sizes.append(graph[0].number_of_nodes())\n",
        "    plt.figure(1)\n",
        "    plt.hist(graph_sizes, bins=20)\n",
        "    plt.title(title)\n",
        "    plt.show()\n",
        "    graph_sizes = torch.Tensor(graph_sizes)\n",
        "    print('min/max :',graph_sizes.min().long().item(),graph_sizes.max().long().item())\n",
        "\n",
        "plot_histo_graphs(datasetDGL.train,'trainset')\n",
        "plot_histo_graphs(datasetDGL.val,'valset')\n",
        "plot_histo_graphs(datasetDGL.test,'testset')"
      ]
    },
    {
      "attachments": {},
      "cell_type": "markdown",
      "metadata": {},
      "source": [
        "# Test"
      ]
    },
    {
      "cell_type": "code",
      "execution_count": 50,
      "metadata": {},
      "outputs": [
        {
          "data": {
            "text/plain": [
              "{'num_node': 14,\n",
              " 'node_type': tensor([0, 1, 2, 6, 6, 6, 6, 6, 6, 6, 6, 6, 6, 6], dtype=torch.int8),\n",
              " 'adj': tensor([[0, 1, 0, 0, 0, 0, 0],\n",
              "         [0, 0, 1, 0, 0, 0, 0],\n",
              "         [0, 0, 0, 0, 0, 0, 1],\n",
              "         [0, 0, 0, 0, 0, 0, 0],\n",
              "         [0, 0, 0, 0, 0, 0, 0],\n",
              "         [0, 0, 0, 0, 0, 0, 0],\n",
              "         [0, 0, 0, 0, 0, 0, 1]], dtype=torch.int8),\n",
              " 'target': tensor(6)}"
            ]
          },
          "execution_count": 50,
          "metadata": {},
          "output_type": "execute_result"
        }
      ],
      "source": [
        "train[0]"
      ]
    },
    {
      "cell_type": "code",
      "execution_count": 68,
      "metadata": {},
      "outputs": [
        {
          "data": {
            "text/plain": [
              "6"
            ]
          },
          "execution_count": 68,
          "metadata": {},
          "output_type": "execute_result"
        }
      ],
      "source": [
        "datasetDGL.train[0][1].item()\n"
      ]
    }
  ],
  "metadata": {
    "colab": {
      "provenance": []
    },
    "kernelspec": {
      "display_name": "Python 3",
      "name": "python3"
    },
    "language_info": {
      "codemirror_mode": {
        "name": "ipython",
        "version": 3
      },
      "file_extension": ".py",
      "mimetype": "text/x-python",
      "name": "python",
      "nbconvert_exporter": "python",
      "pygments_lexer": "ipython3",
      "version": "3.7.4"
    }
  },
  "nbformat": 4,
  "nbformat_minor": 0
}
