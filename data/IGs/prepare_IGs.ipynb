{
  "cells": [
    {
      "attachments": {},
      "cell_type": "markdown",
      "metadata": {},
      "source": [
        "# Config and Imports"
      ]
    },
    {
      "cell_type": "code",
      "execution_count": 2,
      "metadata": {},
      "outputs": [
        {
          "name": "stdout",
          "output_type": "stream",
          "text": [
            "c:\\Users\\andri\\Progetti\\igraph_transformer\n"
          ]
        }
      ],
      "source": [
        "import os\n",
        "os.chdir('../../')\n",
        "prj_path = \"./data/IGs/\"\n",
        "print(os.getcwd())"
      ]
    },
    {
      "cell_type": "code",
      "execution_count": 3,
      "metadata": {
        "id": "nhxFAVLK9b12"
      },
      "outputs": [
        {
          "name": "stderr",
          "output_type": "stream",
          "text": [
            "Using backend: pytorch\n"
          ]
        }
      ],
      "source": [
        "import random\n",
        "\n",
        "import os\n",
        "import torch\n",
        "import pickle\n",
        "import torch.utils.data\n",
        "import time\n",
        "\n",
        "%matplotlib inline\n",
        "import matplotlib.pyplot as plt\n",
        "\n",
        "from sklearn.model_selection import train_test_split\n",
        "\n",
        "from data.IGs import IGsDatasetDGL, IGsDataset"
      ]
    },
    {
      "attachments": {},
      "cell_type": "markdown",
      "metadata": {},
      "source": [
        "# Prepare dataset"
      ]
    },
    {
      "attachments": {},
      "cell_type": "markdown",
      "metadata": {},
      "source": [
        "txt --> train/test/val PKL: NO DGL"
      ]
    },
    {
      "cell_type": "code",
      "execution_count": 4,
      "metadata": {
        "id": "E69YQhWk9hrB"
      },
      "outputs": [],
      "source": [
        "def track_list_to_adjacency_matrix(track_list):\n",
        "    # Determine the maximum number of nodes in the track\n",
        "    # num_nodes = max(track_list) + 1\n",
        "    num_nodes = 16\n",
        "\n",
        "    # Create an empty adjacency matrix\n",
        "    adjacency_matrix = [[0] * num_nodes for _ in range(num_nodes)]\n",
        "\n",
        "    # Add connections to the adjacency matrix\n",
        "    for i in range(len(track_list) - 1):\n",
        "        current_node = track_list[i]\n",
        "        next_node = track_list[i + 1]\n",
        "        adjacency_matrix[current_node][next_node] = 1\n",
        "\n",
        "    return adjacency_matrix\n",
        "\n",
        "\n",
        "data_list = []\n",
        "dataset = []\n",
        "\n",
        "with open(prj_path + 'ig_subgraphs.txt', 'r') as file:\n",
        "    for line in file:\n",
        "        line = line.strip()  # Remove whitespace and newline characters\n",
        "        values = line.split(']')  # Split the line based on the ']' character\n",
        "        nums = values[0].strip('[, ')  # Extract the numbers inside the square brackets\n",
        "        nums = [int(num) for num in nums.split(',')]  # Convert the numbers into a list of integers\n",
        "        num_after_bracket = int(values[1].strip())  # Extract the number after the square bracket\n",
        "        data_list.append([nums, num_after_bracket])\n",
        "\n",
        "random.shuffle(data_list)\n",
        "\n",
        "for data in data_list:\n",
        "    obj = {\n",
        "        'num_node': len(data[0]),\n",
        "        'node_type': torch.tensor(data[0], dtype=torch.int8),\n",
        "        'adj' : torch.tensor(track_list_to_adjacency_matrix(data[0]), dtype=torch.int8),\n",
        "        'target': torch.tensor(data[1])\n",
        "    }\n",
        "    dataset.append(obj)\n",
        "\n",
        "with open(prj_path + 'igraph-GTN.pkl', 'wb') as f:\n",
        "    pickle.dump(dataset, f)"
      ]
    },
    {
      "cell_type": "code",
      "execution_count": 51,
      "metadata": {},
      "outputs": [
        {
          "data": {
            "text/plain": [
              "72285"
            ]
          },
          "execution_count": 51,
          "metadata": {},
          "output_type": "execute_result"
        }
      ],
      "source": [
        "len(dataset)"
      ]
    },
    {
      "attachments": {},
      "cell_type": "markdown",
      "metadata": {},
      "source": [
        "### Split and Dump train,val,test pkl"
      ]
    },
    {
      "cell_type": "code",
      "execution_count": 65,
      "metadata": {},
      "outputs": [
        {
          "name": "stderr",
          "output_type": "stream",
          "text": [
            "c:\\Users\\andri\\miniconda3\\envs\\graph_transformer\\lib\\site-packages\\ipykernel_launcher.py:18: UserWarning: To copy construct from a tensor, it is recommended to use sourceTensor.clone().detach() or sourceTensor.clone().detach().requires_grad_(True), rather than torch.tensor(sourceTensor).\n"
          ]
        }
      ],
      "source": [
        "from torch.utils.data import WeightedRandomSampler\n",
        "from torch.utils.data import Subset\n",
        "#-------------------------------TRAIN-----------------------------\n",
        "train_p = 0.7  # Train set percentage\n",
        "num_samples = len(dataset)\n",
        "train_samples = int(train_p * num_samples)\n",
        "\n",
        "targets = [data['target'] for data in dataset]\n",
        "\n",
        "# Calculate the frequency of each class and get the weights for each class\n",
        "class_counts = torch.bincount(torch.tensor(targets))\n",
        "class_weights = torch.true_divide(1.0, class_counts)\n",
        "\n",
        "# Normalize the class weights\n",
        "# class_weights /= torch.max(class_weights)\n",
        "\n",
        "# Create a tensor of class labels\n",
        "targets = torch.tensor(torch.tensor(targets))\n",
        "\n",
        "# WeightedRandomSampler for weight based sampling with replacement\n",
        "sampler = WeightedRandomSampler(class_weights[targets], train_samples, replacement=False)\n",
        "\n",
        "train_indices = list(sampler)\n",
        "\n",
        "# Use the sampler to sample the dataset for the trainset\n",
        "train = torch.utils.data.Subset(dataset, train_indices)\n",
        "\n",
        "#-------------------------------TEST/VAL-----------------------------\n",
        "# Create a subset of the dataset excluding the train indices\n",
        "remaining_indices = list(set(range(len(dataset))) - set(train_indices))\n",
        "\n",
        "test_p = 0.7 # % of the remaining samples (note! replacement was used)\n",
        "test_size = int(test_p*len(remaining_indices))\n",
        "test_indices = random.sample(remaining_indices, test_size)\n",
        "\n",
        "# Create the test set with the sampled indices\n",
        "test = Subset(dataset, test_indices)\n",
        "\n",
        "# Create a subset of the dataset excluding the train and test indices\n",
        "val_indices = list(set(range(len(dataset))) - set(train_indices) - set(test_indices))\n",
        "\n",
        "# Create the test set with the sampled indices\n",
        "val = Subset(dataset, val_indices)"
      ]
    },
    {
      "cell_type": "code",
      "execution_count": 5,
      "metadata": {},
      "outputs": [
        {
          "name": "stdout",
          "output_type": "stream",
          "text": [
            "Total samples in dataset: 72285\n",
            "class 7: 13945 samples\n",
            "class 6: 13290 samples\n",
            "class 5: 3904 samples\n",
            "class 2: 4143 samples\n",
            "class 10: 9070 samples\n",
            "class 8: 1336 samples\n",
            "class 13: 3295 samples\n",
            "class 11: 4476 samples\n",
            "class 4: 2836 samples\n",
            "class 9: 4511 samples\n",
            "class 3: 2886 samples\n",
            "class 14: 6711 samples\n",
            "class 12: 1722 samples\n",
            "class 15: 160 samples\n"
          ]
        },
        {
          "data": {
            "image/png": "[encoded data removed]",
            "text/plain": [
              "<Figure size 432x288 with 1 Axes>"
            ]
          },
          "metadata": {
            "needs_background": "light"
          },
          "output_type": "display_data"
        }
      ],
      "source": [
        "import matplotlib.pyplot as plt\n",
        "from collections import defaultdict\n",
        "\n",
        "plt_ds = dataset\n",
        "\n",
        "print(f\"Total samples in dataset: {len(plt_ds)}\")\n",
        "# Count number of data instances in each class for test set\n",
        "class_counts = defaultdict(int)\n",
        "for i, data in enumerate(plt_ds):\n",
        "    label = data['target']\n",
        "    class_counts[label.item()] += 1\n",
        "\n",
        "for key, value in class_counts.items():\n",
        "    print(f\"class {key}: {value} samples\")\n",
        "\n",
        "# Plot bar chart of class distribution for test set\n",
        "plt.bar(class_counts.keys(), class_counts.values())\n",
        "plt.xlabel('Class label')\n",
        "plt.ylabel('Number of data instances')\n",
        "plt.title(f'Class distribution')\n",
        "plt.show()\n"
      ]
    },
    {
      "cell_type": "code",
      "execution_count": 30,
      "metadata": {},
      "outputs": [
        {
          "name": "stdout",
          "output_type": "stream",
          "text": [
            "Size of train set is 54210\n",
            "Size of test set is 10836\n",
            "Size of val set is 7239\n",
            "Time (sec): 31.0140438079834\n"
          ]
        }
      ],
      "source": [
        "from torch.utils.data import Subset\n",
        "from collections import defaultdict\n",
        "# Create dictionary to keep track of indices for each class label\n",
        "indices = defaultdict(list)\n",
        "for i, data in enumerate(dataset):\n",
        "    label = data['target']\n",
        "    indices[label.item()].append(i)\n",
        "    \n",
        "p = 0 # Dataset train percentage to use (test: p/2, val: p/4, total: p + p/2 + p/4)\n",
        "train_p = 0.80\n",
        "test_p = 0.10\n",
        "\n",
        "\n",
        "# TRAIN------------------------------------------------------------------------\n",
        "# Sample balanced subset of indices from each class for train set\n",
        "train_indices = []\n",
        "for label_indices in indices.values():\n",
        "  \n",
        "    num_samples = len(label_indices)\n",
        "    \n",
        "    if p == 0:\n",
        "      num_train_samples = int(train_p * num_samples) \n",
        "    else:\n",
        "      num_train_samples = int(p * num_samples)\n",
        "    \n",
        "    train_indices += random.sample(label_indices, num_train_samples)\n",
        "    random.shuffle(train_indices)\n",
        "    \n",
        "train = Subset(dataset, train_indices)\n",
        "# train = [dataset[i] for i in train_indices[0:100]]\n",
        "\n",
        "# Sample balanced subset of indices from each class for test set\n",
        "test_indices = []\n",
        "\n",
        "\n",
        "# TEST-------------------------------------------------------------------------\n",
        "for label_indices in indices.values():\n",
        "  \n",
        "    num_samples = len(label_indices)\n",
        "    label_indices = set(label_indices) - set(train_indices)  # Remove train indices from consideration\n",
        "\n",
        "    if p == 0:\n",
        "      num_test_samples = int(test_p * num_samples)\n",
        "    else:\n",
        "      num_test_samples = int((p/2) * num_samples)\n",
        "    \n",
        "    test_indices += random.sample(label_indices, num_test_samples)\n",
        "    random.shuffle(test_indices)\n",
        "    \n",
        "test = Subset(dataset, test_indices)\n",
        "\n",
        "# test = [dataset[i] for i in test_indices[0:100]]\n",
        "\n",
        "# VALIDATION-------------------------------------------------------------------\n",
        "# Sample balanced subset of indices from each class for val set\n",
        "val_indices = []\n",
        "\n",
        "for label_indices in indices.values():\n",
        "  \n",
        "    num_samples = len(label_indices)\n",
        "    label_indices = set(label_indices) - set(train_indices) - set(test_indices)  # Remove train and validation indices from consideration\n",
        "    \n",
        "    if p == 0:\n",
        "      val_indices += label_indices\n",
        "    else:\n",
        "      num_val_samples = int((p/4) * num_samples)\n",
        "      val_indices += random.sample(label_indices, num_val_samples)\n",
        "    \n",
        "    random.shuffle(val_indices)\n",
        "    \n",
        "val = Subset(dataset, val_indices)"
      ]
    },
    {
      "cell_type": "code",
      "execution_count": 66,
      "metadata": {},
      "outputs": [
        {
          "name": "stdout",
          "output_type": "stream",
          "text": [
            "Size of train set is 50599\n",
            "Size of test set is 28884\n",
            "Size of val set is 12380\n",
            "Time (sec): 29.455648183822632\n"
          ]
        }
      ],
      "source": [
        "\n",
        "# val = [dataset[i] for i in val_indices[0:100]] \n",
        "\n",
        "print(f\"Size of train set is {len(train)}\")\n",
        "print(f\"Size of test set is {len(test)}\")\n",
        "print(f\"Size of val set is {len(val)}\")\n",
        "#train, test_val_data = train_test_split(dataset, test_size=0.3, random_state=42)\n",
        "#test, val = train_test_split(test_val_data, test_size=0.7, random_state=42)\n",
        "\n",
        "\n",
        "start = time.time()\n",
        "with open(prj_path + 'igraph-GTN-train.pkl','wb') as f:\n",
        "        pickle.dump(train, f)\n",
        "with open(prj_path + 'igraph-GTN-test.pkl','wb') as f:\n",
        "        pickle.dump(test, f)\n",
        "with open(prj_path + 'igraph-GTN-val.pkl','wb') as f:\n",
        "        pickle.dump(val, f)\n",
        "\n",
        "print('Time (sec):',time.time() - start)"
      ]
    },
    {
      "attachments": {},
      "cell_type": "markdown",
      "metadata": {},
      "source": [
        "# Load Dataset"
      ]
    },
    {
      "cell_type": "code",
      "execution_count": 67,
      "metadata": {},
      "outputs": [
        {
          "name": "stdout",
          "output_type": "stream",
          "text": [
            "[I] Loading data ...\n",
            "preparing 50599 graphs for the TRAIN set...\n",
            "preparing 12380 graphs for the VAL set...\n",
            "preparing 28884 graphs for the TEST set...\n",
            "[I] Finished loading.\n",
            "Time taken: 479.5180s\n",
            "Time (sec): 73.51204085350037\n"
          ]
        }
      ],
      "source": [
        "if not os.path.isfile(prj_path + 'igraph-DatasetDGL.pkl'):\n",
        "  # file presente --> pkl load\n",
        "  # with open(prj_path + 'igraph-DatasetDGL.pkl', \"rb\") as f:\n",
        "  #   f = pickle.load(f)\n",
        "  #   datasetDGL = f\n",
        "  datasetDGL = IGsDataset()\n",
        "else:\n",
        "  # dataset non presente -> generazione\n",
        "  datasetDGL = IGsDatasetDGL()\n",
        "\n",
        "  start = time.time()\n",
        "  with open(prj_path + 'igraph-DatasetDGL.pkl', 'wb') as f:\n",
        "          #pickle.dump([datasetDGL.train,datasetDGL.val,datasetDGL.test], f)\n",
        "          pickle.dump(datasetDGL, f)\n",
        "  print('Time (sec):',time.time() - start)"
      ]
    },
    {
      "cell_type": "code",
      "execution_count": 40,
      "metadata": {},
      "outputs": [
        {
          "name": "stdout",
          "output_type": "stream",
          "text": [
            "Max graph size is: 77\n"
          ]
        }
      ],
      "source": [
        "max_num_nodes = 0\n",
        "for graph, _ in datasetDGL.train:\n",
        "    num_nodes = graph.number_of_nodes()\n",
        "    if num_nodes > max_num_nodes:\n",
        "        max_num_nodes = num_nodes\n",
        "print(f\"Max graph size is: {max_num_nodes}\")"
      ]
    },
    {
      "cell_type": "code",
      "execution_count": 5,
      "metadata": {},
      "outputs": [
        {
          "data": {
            "text/plain": [
              "Graph(num_nodes=7, num_edges=6,\n",
              "      ndata_schemes={'feat': Scheme(shape=(1,), dtype=torch.float32)}\n",
              "      edata_schemes={'feat': Scheme(shape=(1,), dtype=torch.float32)})"
            ]
          },
          "execution_count": 5,
          "metadata": {},
          "output_type": "execute_result"
        }
      ],
      "source": [
        "datasetDGL.train[1][0]"
      ]
    },
    {
      "attachments": {},
      "cell_type": "markdown",
      "metadata": {},
      "source": []
    },
    {
      "attachments": {},
      "cell_type": "markdown",
      "metadata": {},
      "source": [
        "### Explore dataset"
      ]
    },
    {
      "cell_type": "code",
      "execution_count": 17,
      "metadata": {
        "id": "UROnwGJR_LZG"
      },
      "outputs": [
        {
          "name": "stdout",
          "output_type": "stream",
          "text": [
            "43366\n",
            "10853\n",
            "18066\n",
            "(Graph(num_nodes=11, num_edges=8,\n",
            "      ndata_schemes={'feat': Scheme(shape=(1,), dtype=torch.float32)}\n",
            "      edata_schemes={'feat': Scheme(shape=(1,), dtype=torch.float32)}), tensor(7))\n",
            "(Graph(num_nodes=16, num_edges=10,\n",
            "      ndata_schemes={'feat': Scheme(shape=(1,), dtype=torch.float32)}\n",
            "      edata_schemes={'feat': Scheme(shape=(1,), dtype=torch.float32)}), tensor(12))\n",
            "(Graph(num_nodes=14, num_edges=5,\n",
            "      ndata_schemes={'feat': Scheme(shape=(1,), dtype=torch.float32)}\n",
            "      edata_schemes={'feat': Scheme(shape=(1,), dtype=torch.float32)}), tensor(6))\n"
          ]
        }
      ],
      "source": [
        "print(len(datasetDGL.train))\n",
        "print(len(datasetDGL.val))\n",
        "print(len(datasetDGL.test))\n",
        "\n",
        "print(datasetDGL.train[0])\n",
        "print(datasetDGL.val[0])\n",
        "print(datasetDGL.test[0])"
      ]
    },
    {
      "cell_type": "code",
      "execution_count": 68,
      "metadata": {},
      "outputs": [
        {
          "name": "stdout",
          "output_type": "stream",
          "text": [
            "Total samples in dataset: 72285\n",
            "class 4: 3643 samples\n",
            "class 13: 3577 samples\n",
            "class 8: 3674 samples\n",
            "class 7: 3634 samples\n",
            "class 12: 3587 samples\n",
            "class 2: 3617 samples\n",
            "class 6: 3536 samples\n",
            "class 9: 3489 samples\n",
            "class 10: 3646 samples\n",
            "class 15: 3514 samples\n",
            "class 14: 3602 samples\n",
            "class 11: 3699 samples\n",
            "class 5: 3720 samples\n",
            "class 3: 3661 samples\n"
          ]
        },
        {
          "data": {
            "image/png": "[encoded data removed]",
            "text/plain": [
              "<Figure size 432x288 with 1 Axes>"
            ]
          },
          "metadata": {
            "needs_background": "light"
          },
          "output_type": "display_data"
        }
      ],
      "source": [
        "import matplotlib.pyplot as plt\n",
        "from collections import defaultdict\n",
        "print(f\"Total samples in dataset: {len(dataset)}\")\n",
        "plt_ds = train\n",
        "# Count number of data instances in each class for test set\n",
        "class_counts = defaultdict(int)\n",
        "for i, data in enumerate(plt_ds):\n",
        "    label = data['target']\n",
        "    class_counts[label.item()] += 1\n",
        "\n",
        "for key, value in class_counts.items():\n",
        "    print(f\"class {key}: {value} samples\")\n",
        "\n",
        "# Plot bar chart of class distribution for test set\n",
        "plt.bar(class_counts.keys(), class_counts.values())\n",
        "plt.xlabel('Class label')\n",
        "plt.ylabel('Number of data instances')\n",
        "plt.title(f'Class distribution')\n",
        "plt.show()\n"
      ]
    },
    {
      "cell_type": "code",
      "execution_count": 7,
      "metadata": {},
      "outputs": [
        {
          "ename": "NameError",
          "evalue": "name 'train' is not defined",
          "output_type": "error",
          "traceback": [
            "\u001b[1;31m---------------------------------------------------------------------------\u001b[0m",
            "\u001b[1;31mNameError\u001b[0m                                 Traceback (most recent call last)",
            "\u001b[1;32m<ipython-input-7-76fe4e604ca2>\u001b[0m in \u001b[0;36m<module>\u001b[1;34m\u001b[0m\n\u001b[0;32m      1\u001b[0m \u001b[1;31m# Create set of unique classes in train set\u001b[0m\u001b[1;33m\u001b[0m\u001b[1;33m\u001b[0m\u001b[1;33m\u001b[0m\u001b[0m\n\u001b[0;32m      2\u001b[0m \u001b[0munique_classes\u001b[0m \u001b[1;33m=\u001b[0m \u001b[0mset\u001b[0m\u001b[1;33m(\u001b[0m\u001b[1;33m)\u001b[0m\u001b[1;33m\u001b[0m\u001b[1;33m\u001b[0m\u001b[0m\n\u001b[1;32m----> 3\u001b[1;33m \u001b[1;32mfor\u001b[0m \u001b[0mdata\u001b[0m \u001b[1;32min\u001b[0m \u001b[0mtrain\u001b[0m\u001b[1;33m:\u001b[0m\u001b[1;33m\u001b[0m\u001b[1;33m\u001b[0m\u001b[0m\n\u001b[0m\u001b[0;32m      4\u001b[0m     \u001b[0mlabel\u001b[0m \u001b[1;33m=\u001b[0m \u001b[0mdata\u001b[0m\u001b[1;33m[\u001b[0m\u001b[1;34m'target'\u001b[0m\u001b[1;33m]\u001b[0m\u001b[1;33m\u001b[0m\u001b[1;33m\u001b[0m\u001b[0m\n\u001b[0;32m      5\u001b[0m     \u001b[0munique_classes\u001b[0m\u001b[1;33m.\u001b[0m\u001b[0madd\u001b[0m\u001b[1;33m(\u001b[0m\u001b[0mlabel\u001b[0m\u001b[1;33m.\u001b[0m\u001b[0mitem\u001b[0m\u001b[1;33m(\u001b[0m\u001b[1;33m)\u001b[0m\u001b[1;33m)\u001b[0m\u001b[1;33m\u001b[0m\u001b[1;33m\u001b[0m\u001b[0m\n",
            "\u001b[1;31mNameError\u001b[0m: name 'train' is not defined"
          ]
        }
      ],
      "source": [
        "# Create set of unique classes in train set\n",
        "unique_classes = set()\n",
        "for data in train:\n",
        "    label = data['target']\n",
        "    unique_classes.add(label.item())\n",
        "\n",
        "# Count number of unique classes\n",
        "num_classes = len(unique_classes)\n",
        "print(\"Number of unique classes in train set: \", num_classes)\n",
        "print(unique_classes)"
      ]
    },
    {
      "cell_type": "code",
      "execution_count": 8,
      "metadata": {
        "id": "xYdQTxQW_Ok3"
      },
      "outputs": [
        {
          "data": {
            "image/png": "[encoded data removed]",
            "text/plain": [
              "<Figure size 432x288 with 1 Axes>"
            ]
          },
          "metadata": {
            "needs_background": "light"
          },
          "output_type": "display_data"
        },
        {
          "name": "stdout",
          "output_type": "stream",
          "text": [
            "min/max : 2 76\n"
          ]
        },
        {
          "data": {
            "image/png": "[encoded data removed]",
            "text/plain": [
              "<Figure size 432x288 with 1 Axes>"
            ]
          },
          "metadata": {
            "needs_background": "light"
          },
          "output_type": "display_data"
        },
        {
          "name": "stdout",
          "output_type": "stream",
          "text": [
            "min/max : 2 73\n"
          ]
        },
        {
          "data": {
            "image/png": "[encoded data removed]",
            "text/plain": [
              "<Figure size 432x288 with 1 Axes>"
            ]
          },
          "metadata": {
            "needs_background": "light"
          },
          "output_type": "display_data"
        },
        {
          "name": "stdout",
          "output_type": "stream",
          "text": [
            "min/max : 2 77\n"
          ]
        }
      ],
      "source": [
        "def plot_histo_graphs(dataset, title):\n",
        "    # histogram of graph sizes\n",
        "    graph_sizes = []\n",
        "    for graph in dataset:\n",
        "        graph_sizes.append(graph[0].number_of_nodes())\n",
        "    plt.figure(1)\n",
        "    plt.hist(graph_sizes, bins=20)\n",
        "    plt.title(title)\n",
        "    plt.show()\n",
        "    graph_sizes = torch.Tensor(graph_sizes)\n",
        "    print('min/max :',graph_sizes.min().long().item(),graph_sizes.max().long().item())\n",
        "\n",
        "plot_histo_graphs(datasetDGL.train,'trainset')\n",
        "plot_histo_graphs(datasetDGL.val,'valset')\n",
        "plot_histo_graphs(datasetDGL.test,'testset')"
      ]
    },
    {
      "attachments": {},
      "cell_type": "markdown",
      "metadata": {},
      "source": [
        "# Test"
      ]
    },
    {
      "cell_type": "code",
      "execution_count": 50,
      "metadata": {},
      "outputs": [
        {
          "data": {
            "text/plain": [
              "{'num_node': 14,\n",
              " 'node_type': tensor([0, 1, 2, 6, 6, 6, 6, 6, 6, 6, 6, 6, 6, 6], dtype=torch.int8),\n",
              " 'adj': tensor([[0, 1, 0, 0, 0, 0, 0],\n",
              "         [0, 0, 1, 0, 0, 0, 0],\n",
              "         [0, 0, 0, 0, 0, 0, 1],\n",
              "         [0, 0, 0, 0, 0, 0, 0],\n",
              "         [0, 0, 0, 0, 0, 0, 0],\n",
              "         [0, 0, 0, 0, 0, 0, 0],\n",
              "         [0, 0, 0, 0, 0, 0, 1]], dtype=torch.int8),\n",
              " 'target': tensor(6)}"
            ]
          },
          "execution_count": 50,
          "metadata": {},
          "output_type": "execute_result"
        }
      ],
      "source": [
        "train[0]"
      ]
    },
    {
      "cell_type": "code",
      "execution_count": 68,
      "metadata": {},
      "outputs": [
        {
          "data": {
            "text/plain": [
              "6"
            ]
          },
          "execution_count": 68,
          "metadata": {},
          "output_type": "execute_result"
        }
      ],
      "source": [
        "datasetDGL.train[0][1].item()\n"
      ]
    }
  ],
  "metadata": {
    "colab": {
      "provenance": []
    },
    "kernelspec": {
      "display_name": "Python 3",
      "name": "python3"
    },
    "language_info": {
      "codemirror_mode": {
        "name": "ipython",
        "version": 3
      },
      "file_extension": ".py",
      "mimetype": "text/x-python",
      "name": "python",
      "nbconvert_exporter": "python",
      "pygments_lexer": "ipython3",
      "version": "3.7.4"
    }
  },
  "nbformat": 4,
  "nbformat_minor": 0
}
