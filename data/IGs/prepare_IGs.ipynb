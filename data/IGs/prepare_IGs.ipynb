{
  "cells": [
    {
      "cell_type": "code",
      "execution_count": 2,
      "metadata": {},
      "outputs": [
        {
          "name": "stdout",
          "output_type": "stream",
          "text": [
            "c:\\Users\\andri\\Progetti\\igraph_transformer\n"
          ]
        }
      ],
      "source": [
        "import os\n",
        "os.chdir('../../')\n",
        "prj_path = \"./data/IGs/\"\n",
        "print(os.getcwd())"
      ]
    },
    {
      "cell_type": "code",
      "execution_count": 3,
      "metadata": {
        "id": "nhxFAVLK9b12"
      },
      "outputs": [
        {
          "name": "stderr",
          "output_type": "stream",
          "text": [
            "Using backend: pytorch\n"
          ]
        }
      ],
      "source": [
        "import random\n",
        "\n",
        "import torch\n",
        "import pickle\n",
        "import torch.utils.data\n",
        "import time\n",
        "\n",
        "%matplotlib inline\n",
        "import matplotlib.pyplot as plt\n",
        "\n",
        "from sklearn.model_selection import train_test_split\n",
        "\n",
        "from data.IGs import IGsDatasetDGL\n"
      ]
    },
    {
      "cell_type": "code",
      "execution_count": 4,
      "metadata": {
        "id": "E69YQhWk9hrB"
      },
      "outputs": [],
      "source": [
        "def track_list_to_adjacency_matrix(track_list):\n",
        "    # Determine the maximum number of nodes in the track\n",
        "    num_nodes = max(track_list) + 1\n",
        "\n",
        "    # Create an empty adjacency matrix\n",
        "    adjacency_matrix = [[0] * num_nodes for _ in range(num_nodes)]\n",
        "\n",
        "    # Add connections to the adjacency matrix\n",
        "    for i in range(len(track_list) - 1):\n",
        "        current_node = track_list[i]\n",
        "        next_node = track_list[i + 1]\n",
        "        adjacency_matrix[current_node][next_node] = 1\n",
        "\n",
        "    return adjacency_matrix\n",
        "\n",
        "\n",
        "data_list = []\n",
        "dataset = []\n",
        "\n",
        "with open(prj_path + 'ig_subgraphs.txt', 'r') as file:\n",
        "    for line in file:\n",
        "        line = line.strip()  # Remove whitespace and newline characters\n",
        "        values = line.split(']')  # Split the line based on the ']' character\n",
        "        nums = values[0].strip('[, ')  # Extract the numbers inside the square brackets\n",
        "        nums = [int(num) for num in nums.split(',')]  # Convert the numbers into a list of integers\n",
        "        num_after_bracket = int(values[1].strip())  # Extract the number after the square bracket\n",
        "        data_list.append([nums, num_after_bracket])\n",
        "\n",
        "random.shuffle(data_list)\n",
        "\n",
        "for data in data_list:\n",
        "    obj = {\n",
        "        'num_node': len(data[0]),\n",
        "        'node_type': torch.tensor(data[0], dtype=torch.int8),\n",
        "        'adj' : torch.tensor(track_list_to_adjacency_matrix(data[0]), dtype=torch.int8),\n",
        "        'target': torch.tensor(data[1])\n",
        "    }\n",
        "    dataset.append(obj)\n",
        "\n",
        "with open(prj_path + 'igraph-GTN.pkl', 'wb') as f:\n",
        "    pickle.dump(dataset, f)"
      ]
    },
    {
      "cell_type": "code",
      "execution_count": 5,
      "metadata": {
        "id": "EBiNImE895nV"
      },
      "outputs": [
        {
          "name": "stdout",
          "output_type": "stream",
          "text": [
            "Time (sec): 8.505125999450684\n"
          ]
        }
      ],
      "source": [
        "train, test_val_data = train_test_split(dataset, test_size=0.3, random_state=42)\n",
        "test, val = train_test_split(test_val_data, test_size=0.7, random_state=42)\n",
        "\n",
        "start = time.time()\n",
        "with open(prj_path + 'igraph-GTN-train.pkl','wb') as f:\n",
        "        pickle.dump(train, f)\n",
        "with open(prj_path + 'igraph-GTN-test.pkl','wb') as f:\n",
        "        pickle.dump(test, f)\n",
        "with open(prj_path + 'igraph-GTN-val.pkl','wb') as f:\n",
        "        pickle.dump(val, f)\n",
        "\n",
        "print('Time (sec):',time.time() - start)"
      ]
    },
    {
      "cell_type": "code",
      "execution_count": 6,
      "metadata": {
        "id": "9VJXssCr-D-W"
      },
      "outputs": [
        {
          "name": "stdout",
          "output_type": "stream",
          "text": [
            "[I] Loading data ...\n",
            "preparing 50599 graphs for the TRAIN set...\n"
          ]
        },
        {
          "name": "stderr",
          "output_type": "stream",
          "text": [
            "c:\\Users\\andri\\Progetti\\igraph_transformer\\data\\IGs.py:166: UserWarning: This overload of nonzero is deprecated:\n",
            "\tnonzero()\n",
            "Consider using one of the following signatures instead:\n",
            "\tnonzero(*, bool as_tuple) (Triggered internally at  ..\\torch\\csrc\\utils\\python_arg_parser.cpp:766.)\n",
            "  edge_list = (adj != 0).nonzero()  # converting adj matrix to edge_list\n"
          ]
        },
        {
          "name": "stdout",
          "output_type": "stream",
          "text": [
            "preparing 15181 graphs for the VAL set...\n",
            "preparing 6505 graphs for the TEST set...\n",
            "[I] Finished loading.\n",
            "Time taken: 350.7980s\n"
          ]
        }
      ],
      "source": [
        "datasetDGL = IGsDatasetDGL()"
      ]
    },
    {
      "cell_type": "code",
      "execution_count": 7,
      "metadata": {
        "id": "2e5vTdxJ_Q39"
      },
      "outputs": [
        {
          "name": "stdout",
          "output_type": "stream",
          "text": [
            "Time (sec): 37.359867811203\n"
          ]
        }
      ],
      "source": [
        "# Save IG dataset DGL\n",
        "start = time.time()\n",
        "with open(prj_path + 'igraph-DGL.pkl', 'wb') as f:\n",
        "        pickle.dump([datasetDGL.train,datasetDGL.val,datasetDGL.test], f)\n",
        "print('Time (sec):',time.time() - start)"
      ]
    },
    {
      "cell_type": "code",
      "execution_count": 8,
      "metadata": {
        "id": "UROnwGJR_LZG"
      },
      "outputs": [
        {
          "name": "stdout",
          "output_type": "stream",
          "text": [
            "50599\n",
            "15181\n",
            "6505\n",
            "(Graph(num_nodes=13, num_edges=4,\n",
            "      ndata_schemes={'feat': Scheme(shape=(), dtype=torch.int64)}\n",
            "      edata_schemes={'feat': Scheme(shape=(), dtype=torch.int64)}), tensor(6))\n",
            "(Graph(num_nodes=10, num_edges=4,\n",
            "      ndata_schemes={'feat': Scheme(shape=(), dtype=torch.int64)}\n",
            "      edata_schemes={'feat': Scheme(shape=(), dtype=torch.int64)}), tensor(6))\n",
            "(Graph(num_nodes=4, num_edges=3,\n",
            "      ndata_schemes={'feat': Scheme(shape=(), dtype=torch.int64)}\n",
            "      edata_schemes={'feat': Scheme(shape=(), dtype=torch.int64)}), tensor(4))\n"
          ]
        }
      ],
      "source": [
        "print(len(datasetDGL.train))\n",
        "print(len(datasetDGL.val))\n",
        "print(len(datasetDGL.test))\n",
        "\n",
        "print(datasetDGL.train[0])\n",
        "print(datasetDGL.val[0])\n",
        "print(datasetDGL.test[0])"
      ]
    },
    {
      "cell_type": "code",
      "execution_count": 9,
      "metadata": {
        "id": "xYdQTxQW_Ok3"
      },
      "outputs": [
        {
          "data": {
            "image/png": "[encoded data removed]",
            "text/plain": [
              "<Figure size 432x288 with 1 Axes>"
            ]
          },
          "metadata": {
            "needs_background": "light"
          },
          "output_type": "display_data"
        },
        {
          "name": "stdout",
          "output_type": "stream",
          "text": [
            "min/max : 2 76\n"
          ]
        },
        {
          "data": {
            "image/png": "[encoded data removed]",
            "text/plain": [
              "<Figure size 432x288 with 1 Axes>"
            ]
          },
          "metadata": {
            "needs_background": "light"
          },
          "output_type": "display_data"
        },
        {
          "name": "stdout",
          "output_type": "stream",
          "text": [
            "min/max : 2 77\n"
          ]
        },
        {
          "data": {
            "image/png": "[encoded data removed]",
            "text/plain": [
              "<Figure size 432x288 with 1 Axes>"
            ]
          },
          "metadata": {
            "needs_background": "light"
          },
          "output_type": "display_data"
        },
        {
          "name": "stdout",
          "output_type": "stream",
          "text": [
            "min/max : 2 73\n"
          ]
        }
      ],
      "source": [
        "def plot_histo_graphs(dataset, title):\n",
        "    # histogram of graph sizes\n",
        "    graph_sizes = []\n",
        "    for graph in dataset:\n",
        "        graph_sizes.append(graph[0].number_of_nodes())\n",
        "    plt.figure(1)\n",
        "    plt.hist(graph_sizes, bins=20)\n",
        "    plt.title(title)\n",
        "    plt.show()\n",
        "    graph_sizes = torch.Tensor(graph_sizes)\n",
        "    print('min/max :',graph_sizes.min().long().item(),graph_sizes.max().long().item())\n",
        "\n",
        "plot_histo_graphs(datasetDGL.train,'trainset')\n",
        "plot_histo_graphs(datasetDGL.val,'valset')\n",
        "plot_histo_graphs(datasetDGL.test,'testset')"
      ]
    }
  ],
  "metadata": {
    "colab": {
      "provenance": []
    },
    "kernelspec": {
      "display_name": "Python 3",
      "name": "python3"
    },
    "language_info": {
      "codemirror_mode": {
        "name": "ipython",
        "version": 3
      },
      "file_extension": ".py",
      "mimetype": "text/x-python",
      "name": "python",
      "nbconvert_exporter": "python",
      "pygments_lexer": "ipython3",
      "version": "3.7.4"
    }
  },
  "nbformat": 4,
  "nbformat_minor": 0
}
